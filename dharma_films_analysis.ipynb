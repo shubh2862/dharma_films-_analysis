{
 "cells": [
  {
   "cell_type": "code",
   "execution_count": 2,
   "metadata": {},
   "outputs": [],
   "source": [
    "import pandas as pd\n",
    "import numpy as np\n",
    "import matplotlib.pyplot as plt\n",
    "import seaborn as sns\n",
    "import warnings\n",
    "warnings.filterwarnings(\"ignore\")\n"
   ]
  },
  {
   "cell_type": "markdown",
   "metadata": {},
   "source": [
    "Loading dataset"
   ]
  },
  {
   "cell_type": "code",
   "execution_count": 3,
   "metadata": {},
   "outputs": [],
   "source": [
    "dharma_data = pd.read_csv('table-2.csv')\n"
   ]
  },
  {
   "cell_type": "code",
   "execution_count": 4,
   "metadata": {},
   "outputs": [
    {
     "data": {
      "text/html": [
       "<div>\n",
       "<style scoped>\n",
       "    .dataframe tbody tr th:only-of-type {\n",
       "        vertical-align: middle;\n",
       "    }\n",
       "\n",
       "    .dataframe tbody tr th {\n",
       "        vertical-align: top;\n",
       "    }\n",
       "\n",
       "    .dataframe thead th {\n",
       "        text-align: right;\n",
       "    }\n",
       "</style>\n",
       "<table border=\"1\" class=\"dataframe\">\n",
       "  <thead>\n",
       "    <tr style=\"text-align: right;\">\n",
       "      <th></th>\n",
       "      <th>Title</th>\n",
       "      <th>Year</th>\n",
       "      <th>Director</th>\n",
       "      <th>Producer(s)</th>\n",
       "      <th>Cast</th>\n",
       "      <th>Synopsis</th>\n",
       "      <th>Ref.</th>\n",
       "    </tr>\n",
       "  </thead>\n",
       "  <tbody>\n",
       "    <tr>\n",
       "      <th>0</th>\n",
       "      <td>Dostana</td>\n",
       "      <td>1980</td>\n",
       "      <td>Raj Khosla</td>\n",
       "      <td>Yash Johar</td>\n",
       "      <td>Amitabh Bachchan, Shatrughan Sinha, Zeenat Aman</td>\n",
       "      <td>A police officer and a lawyer are best friends...</td>\n",
       "      <td>[18]</td>\n",
       "    </tr>\n",
       "    <tr>\n",
       "      <th>1</th>\n",
       "      <td>Duniya</td>\n",
       "      <td>1984</td>\n",
       "      <td>Ramesh Talwar</td>\n",
       "      <td>Yash Johar</td>\n",
       "      <td>Dilip Kumar, Rishi Kapoor, Amrita Singh, Saira...</td>\n",
       "      <td>An honest man is wrongly imprisoned by crimina...</td>\n",
       "      <td>[19]</td>\n",
       "    </tr>\n",
       "    <tr>\n",
       "      <th>2</th>\n",
       "      <td>Muqaddar Ka Faisla</td>\n",
       "      <td>1987</td>\n",
       "      <td>Prakash Mehra</td>\n",
       "      <td>Yash Johar</td>\n",
       "      <td>Raaj Kumar, Raakhee, Raj Babbar, Meenakshi Ses...</td>\n",
       "      <td>A Hindu priest is wrongly imprisoned for rape....</td>\n",
       "      <td>[20]</td>\n",
       "    </tr>\n",
       "    <tr>\n",
       "      <th>3</th>\n",
       "      <td>Agneepath</td>\n",
       "      <td>1990</td>\n",
       "      <td>Mukul S. Anand</td>\n",
       "      <td>Yash Johar</td>\n",
       "      <td>Amitabh Bachchan, Mithun Chakraborty, Danny De...</td>\n",
       "      <td>A common man seeks revenge from an unscrupulou...</td>\n",
       "      <td>[21]</td>\n",
       "    </tr>\n",
       "    <tr>\n",
       "      <th>4</th>\n",
       "      <td>Gumrah</td>\n",
       "      <td>1993</td>\n",
       "      <td>Mahesh Bhatt</td>\n",
       "      <td>Yash Johar</td>\n",
       "      <td>Sridevi, Sanjay Dutt, Rahul Roy</td>\n",
       "      <td>An aspiring singer is wrongly accused of drug ...</td>\n",
       "      <td>[22]</td>\n",
       "    </tr>\n",
       "  </tbody>\n",
       "</table>\n",
       "</div>"
      ],
      "text/plain": [
       "                Title  Year        Director Producer(s)  \\\n",
       "0             Dostana  1980      Raj Khosla  Yash Johar   \n",
       "1              Duniya  1984   Ramesh Talwar  Yash Johar   \n",
       "2  Muqaddar Ka Faisla  1987   Prakash Mehra  Yash Johar   \n",
       "3           Agneepath  1990  Mukul S. Anand  Yash Johar   \n",
       "4              Gumrah  1993    Mahesh Bhatt  Yash Johar   \n",
       "\n",
       "                                                Cast  \\\n",
       "0    Amitabh Bachchan, Shatrughan Sinha, Zeenat Aman   \n",
       "1  Dilip Kumar, Rishi Kapoor, Amrita Singh, Saira...   \n",
       "2  Raaj Kumar, Raakhee, Raj Babbar, Meenakshi Ses...   \n",
       "3  Amitabh Bachchan, Mithun Chakraborty, Danny De...   \n",
       "4                    Sridevi, Sanjay Dutt, Rahul Roy   \n",
       "\n",
       "                                            Synopsis  Ref.  \n",
       "0  A police officer and a lawyer are best friends...  [18]  \n",
       "1  An honest man is wrongly imprisoned by crimina...  [19]  \n",
       "2  A Hindu priest is wrongly imprisoned for rape....  [20]  \n",
       "3  A common man seeks revenge from an unscrupulou...  [21]  \n",
       "4  An aspiring singer is wrongly accused of drug ...  [22]  "
      ]
     },
     "execution_count": 4,
     "metadata": {},
     "output_type": "execute_result"
    }
   ],
   "source": [
    "dharma_data.head()"
   ]
  },
  {
   "cell_type": "code",
   "execution_count": 5,
   "metadata": {},
   "outputs": [
    {
     "data": {
      "text/html": [
       "<div>\n",
       "<style scoped>\n",
       "    .dataframe tbody tr th:only-of-type {\n",
       "        vertical-align: middle;\n",
       "    }\n",
       "\n",
       "    .dataframe tbody tr th {\n",
       "        vertical-align: top;\n",
       "    }\n",
       "\n",
       "    .dataframe thead th {\n",
       "        text-align: right;\n",
       "    }\n",
       "</style>\n",
       "<table border=\"1\" class=\"dataframe\">\n",
       "  <thead>\n",
       "    <tr style=\"text-align: right;\">\n",
       "      <th></th>\n",
       "      <th>Title</th>\n",
       "      <th>Year</th>\n",
       "      <th>Director</th>\n",
       "      <th>Producer(s)</th>\n",
       "      <th>Cast</th>\n",
       "      <th>Synopsis</th>\n",
       "      <th>Ref.</th>\n",
       "    </tr>\n",
       "  </thead>\n",
       "  <tbody>\n",
       "    <tr>\n",
       "      <th>56</th>\n",
       "      <td>Dostana 2</td>\n",
       "      <td>2022</td>\n",
       "      <td>Collin D'Cunha</td>\n",
       "      <td>Karan JoharHiroo Johar,Apoorva Mehta</td>\n",
       "      <td>Janhvi Kapoor, Laksh Lalwani</td>\n",
       "      <td>TBA</td>\n",
       "      <td>[111]</td>\n",
       "    </tr>\n",
       "    <tr>\n",
       "      <th>57</th>\n",
       "      <td>Bedhadak</td>\n",
       "      <td>2022</td>\n",
       "      <td>Shashank Khaitan</td>\n",
       "      <td>Karan JoharHiroo Yash Johar,Apoorva Mehta</td>\n",
       "      <td>Laksh Lalwani, Gurfateh Singh Pirzada, Shanaya...</td>\n",
       "      <td>TBA</td>\n",
       "      <td>[112][113]</td>\n",
       "    </tr>\n",
       "    <tr>\n",
       "      <th>58</th>\n",
       "      <td>Rocky Aur Rani Ki Prem Kahani</td>\n",
       "      <td>2023</td>\n",
       "      <td>Karan Johar</td>\n",
       "      <td>Karan JoharHiroo Yash Johar,Apoorva Mehta</td>\n",
       "      <td>Ranveer Singh, Alia Bhatt, Dharmendra, Shabana...</td>\n",
       "      <td>TBA</td>\n",
       "      <td>[114]</td>\n",
       "    </tr>\n",
       "    <tr>\n",
       "      <th>59</th>\n",
       "      <td>Anand Tiwari's untitled next</td>\n",
       "      <td>2023</td>\n",
       "      <td>Karan Johar</td>\n",
       "      <td>Karan JoharHiroo Yash Johar,Apoorva Mehta</td>\n",
       "      <td>Vicky Kaushal, Tripti Dimri, Ammy Virk</td>\n",
       "      <td>TBA</td>\n",
       "      <td>[115]</td>\n",
       "    </tr>\n",
       "    <tr>\n",
       "      <th>60</th>\n",
       "      <td>Selfiee</td>\n",
       "      <td>2023</td>\n",
       "      <td>Raj Mehta</td>\n",
       "      <td>Karan JoharPrithviraj SukumaranAruna Bhatia,Hi...</td>\n",
       "      <td>Akshay Kumar, Emraan Hashmi, Nushrratt Bharucc...</td>\n",
       "      <td>TBA</td>\n",
       "      <td>[116][117]</td>\n",
       "    </tr>\n",
       "  </tbody>\n",
       "</table>\n",
       "</div>"
      ],
      "text/plain": [
       "                            Title  Year          Director  \\\n",
       "56                      Dostana 2  2022    Collin D'Cunha   \n",
       "57                       Bedhadak  2022  Shashank Khaitan   \n",
       "58  Rocky Aur Rani Ki Prem Kahani  2023       Karan Johar   \n",
       "59   Anand Tiwari's untitled next  2023       Karan Johar   \n",
       "60                        Selfiee  2023         Raj Mehta   \n",
       "\n",
       "                                          Producer(s)  \\\n",
       "56               Karan JoharHiroo Johar,Apoorva Mehta   \n",
       "57          Karan JoharHiroo Yash Johar,Apoorva Mehta   \n",
       "58          Karan JoharHiroo Yash Johar,Apoorva Mehta   \n",
       "59          Karan JoharHiroo Yash Johar,Apoorva Mehta   \n",
       "60  Karan JoharPrithviraj SukumaranAruna Bhatia,Hi...   \n",
       "\n",
       "                                                 Cast Synopsis        Ref.  \n",
       "56                       Janhvi Kapoor, Laksh Lalwani      TBA       [111]  \n",
       "57  Laksh Lalwani, Gurfateh Singh Pirzada, Shanaya...      TBA  [112][113]  \n",
       "58  Ranveer Singh, Alia Bhatt, Dharmendra, Shabana...      TBA       [114]  \n",
       "59             Vicky Kaushal, Tripti Dimri, Ammy Virk      TBA       [115]  \n",
       "60  Akshay Kumar, Emraan Hashmi, Nushrratt Bharucc...      TBA  [116][117]  "
      ]
     },
     "execution_count": 5,
     "metadata": {},
     "output_type": "execute_result"
    }
   ],
   "source": [
    "dharma_data.tail()\n"
   ]
  },
  {
   "cell_type": "code",
   "execution_count": 6,
   "metadata": {},
   "outputs": [
    {
     "data": {
      "text/plain": [
       "(61, 7)"
      ]
     },
     "execution_count": 6,
     "metadata": {},
     "output_type": "execute_result"
    }
   ],
   "source": [
    "dharma_data.shape\n"
   ]
  },
  {
   "cell_type": "code",
   "execution_count": 7,
   "metadata": {},
   "outputs": [
    {
     "data": {
      "text/plain": [
       "Index(['Title', 'Year', 'Director', 'Producer(s)', 'Cast', 'Synopsis', 'Ref.'], dtype='object')"
      ]
     },
     "execution_count": 7,
     "metadata": {},
     "output_type": "execute_result"
    }
   ],
   "source": [
    "dharma_data.columns"
   ]
  },
  {
   "cell_type": "code",
   "execution_count": 8,
   "metadata": {},
   "outputs": [
    {
     "name": "stdout",
     "output_type": "stream",
     "text": [
      "<class 'pandas.core.frame.DataFrame'>\n",
      "RangeIndex: 61 entries, 0 to 60\n",
      "Data columns (total 7 columns):\n",
      " #   Column       Non-Null Count  Dtype \n",
      "---  ------       --------------  ----- \n",
      " 0   Title        61 non-null     object\n",
      " 1   Year         61 non-null     int64 \n",
      " 2   Director     61 non-null     object\n",
      " 3   Producer(s)  61 non-null     object\n",
      " 4   Cast         61 non-null     object\n",
      " 5   Synopsis     61 non-null     object\n",
      " 6   Ref.         61 non-null     object\n",
      "dtypes: int64(1), object(6)\n",
      "memory usage: 3.5+ KB\n"
     ]
    }
   ],
   "source": [
    "dharma_data.info()\n"
   ]
  },
  {
   "cell_type": "code",
   "execution_count": 9,
   "metadata": {},
   "outputs": [
    {
     "data": {
      "text/html": [
       "<div>\n",
       "<style scoped>\n",
       "    .dataframe tbody tr th:only-of-type {\n",
       "        vertical-align: middle;\n",
       "    }\n",
       "\n",
       "    .dataframe tbody tr th {\n",
       "        vertical-align: top;\n",
       "    }\n",
       "\n",
       "    .dataframe thead th {\n",
       "        text-align: right;\n",
       "    }\n",
       "</style>\n",
       "<table border=\"1\" class=\"dataframe\">\n",
       "  <thead>\n",
       "    <tr style=\"text-align: right;\">\n",
       "      <th></th>\n",
       "      <th>Year</th>\n",
       "    </tr>\n",
       "  </thead>\n",
       "  <tbody>\n",
       "    <tr>\n",
       "      <th>count</th>\n",
       "      <td>61.000000</td>\n",
       "    </tr>\n",
       "    <tr>\n",
       "      <th>mean</th>\n",
       "      <td>2012.918033</td>\n",
       "    </tr>\n",
       "    <tr>\n",
       "      <th>std</th>\n",
       "      <td>10.028784</td>\n",
       "    </tr>\n",
       "    <tr>\n",
       "      <th>min</th>\n",
       "      <td>1980.000000</td>\n",
       "    </tr>\n",
       "    <tr>\n",
       "      <th>25%</th>\n",
       "      <td>2010.000000</td>\n",
       "    </tr>\n",
       "    <tr>\n",
       "      <th>50%</th>\n",
       "      <td>2016.000000</td>\n",
       "    </tr>\n",
       "    <tr>\n",
       "      <th>75%</th>\n",
       "      <td>2020.000000</td>\n",
       "    </tr>\n",
       "    <tr>\n",
       "      <th>max</th>\n",
       "      <td>2023.000000</td>\n",
       "    </tr>\n",
       "  </tbody>\n",
       "</table>\n",
       "</div>"
      ],
      "text/plain": [
       "              Year\n",
       "count    61.000000\n",
       "mean   2012.918033\n",
       "std      10.028784\n",
       "min    1980.000000\n",
       "25%    2010.000000\n",
       "50%    2016.000000\n",
       "75%    2020.000000\n",
       "max    2023.000000"
      ]
     },
     "execution_count": 9,
     "metadata": {},
     "output_type": "execute_result"
    }
   ],
   "source": [
    "dharma_data.describe()\n"
   ]
  },
  {
   "cell_type": "markdown",
   "metadata": {},
   "source": [
    "Checking Null Values "
   ]
  },
  {
   "cell_type": "code",
   "execution_count": 10,
   "metadata": {},
   "outputs": [
    {
     "data": {
      "text/plain": [
       "Title          0\n",
       "Year           0\n",
       "Director       0\n",
       "Producer(s)    0\n",
       "Cast           0\n",
       "Synopsis       0\n",
       "Ref.           0\n",
       "dtype: int64"
      ]
     },
     "execution_count": 10,
     "metadata": {},
     "output_type": "execute_result"
    }
   ],
   "source": [
    "dharma_data.isnull().sum()"
   ]
  },
  {
   "cell_type": "code",
   "execution_count": 11,
   "metadata": {},
   "outputs": [],
   "source": [
    "dharma_data.rename(columns = {'Producer(s)':'Producers'}, inplace = True)\n"
   ]
  },
  {
   "cell_type": "code",
   "execution_count": 12,
   "metadata": {},
   "outputs": [],
   "source": [
    "dharma_data = dharma_data.drop('Ref.', axis = 1)\n"
   ]
  },
  {
   "cell_type": "code",
   "execution_count": 13,
   "metadata": {},
   "outputs": [
    {
     "data": {
      "text/plain": [
       "Title        59\n",
       "Year         25\n",
       "Director     35\n",
       "Producers    32\n",
       "Cast         60\n",
       "Synopsis     50\n",
       "dtype: int64"
      ]
     },
     "execution_count": 13,
     "metadata": {},
     "output_type": "execute_result"
    }
   ],
   "source": [
    "dharma_data.nunique()\n"
   ]
  },
  {
   "cell_type": "code",
   "execution_count": 14,
   "metadata": {},
   "outputs": [
    {
     "data": {
      "text/plain": [
       "array([1980, 1984, 1987, 1990, 1993, 1998, 2001, 2003, 2005, 2006, 2008,\n",
       "       2009, 2010, 2012, 2013, 2014, 2015, 2016, 2017, 2018, 2019, 2020,\n",
       "       2021, 2022, 2023], dtype=int64)"
      ]
     },
     "execution_count": 14,
     "metadata": {},
     "output_type": "execute_result"
    }
   ],
   "source": [
    "dharma_data.Year.unique()"
   ]
  },
  {
   "cell_type": "code",
   "execution_count": 15,
   "metadata": {},
   "outputs": [
    {
     "data": {
      "text/plain": [
       "2022    9\n",
       "2019    5\n",
       "2016    4\n",
       "2014    4\n",
       "2013    4\n",
       "2010    3\n",
       "2012    3\n",
       "2018    3\n",
       "2017    3\n",
       "2023    3\n",
       "2009    2\n",
       "2015    2\n",
       "1998    2\n",
       "2020    2\n",
       "2021    2\n",
       "2008    1\n",
       "1984    1\n",
       "2006    1\n",
       "2005    1\n",
       "2003    1\n",
       "2001    1\n",
       "1993    1\n",
       "1990    1\n",
       "1987    1\n",
       "1980    1\n",
       "Name: Year, dtype: int64"
      ]
     },
     "execution_count": 15,
     "metadata": {},
     "output_type": "execute_result"
    }
   ],
   "source": [
    "dharma_data.Year.value_counts()\n"
   ]
  },
  {
   "cell_type": "markdown",
   "metadata": {},
   "source": [
    "Plotting Number of films per year"
   ]
  },
  {
   "cell_type": "code",
   "execution_count": 16,
   "metadata": {},
   "outputs": [
    {
     "data": {
      "image/png": "[encoded data removed]",
      "text/plain": [
       "<Figure size 1080x432 with 1 Axes>"
      ]
     },
     "metadata": {
      "needs_background": "light"
     },
     "output_type": "display_data"
    }
   ],
   "source": [
    "plt.figure(figsize=(15,6))\n",
    "sns.countplot('Year', data = dharma_data, palette='hls')\n",
    "plt.xticks(rotation = 90)\n",
    "plt.show()"
   ]
  },
  {
   "cell_type": "code",
   "execution_count": 17,
   "metadata": {},
   "outputs": [
    {
     "data": {
      "image/png": "[encoded data removed]",
      "text/plain": [
       "<Figure size 1080x432 with 1 Axes>"
      ]
     },
     "metadata": {
      "needs_background": "light"
     },
     "output_type": "display_data"
    }
   ],
   "source": [
    "plt.figure(figsize=(15,6))\n",
    "sns.histplot(dharma_data.Year, bins = 60)\n",
    "plt.xticks(rotation = 90)\n",
    "plt.show()"
   ]
  },
  {
   "cell_type": "code",
   "execution_count": 19,
   "metadata": {},
   "outputs": [],
   "source": [
    "import plotly.express as px"
   ]
  },
  {
   "cell_type": "code",
   "execution_count": 22,
   "metadata": {},
   "outputs": [
    {
     "data": {
      "application/vnd.plotly.v1+json": {
       "config": {
        "plotlyServerURL": "https://plot.ly"
       },
       "data": [
        {
         "alignmentgroup": "True",
         "bingroup": "x",
         "hovertemplate": "Title=Dostana<br>Year=%{x}<br>count=%{y}<extra></extra>",
         "legendgroup": "Dostana",
         "marker": {
          "color": "#636efa",
          "pattern": {
           "shape": ""
          }
         },
         "name": "Dostana",
         "offsetgroup": "Dostana",
         "orientation": "v",
         "showlegend": true,
         "type": "histogram",
         "x": [
          1980,
          2008
         ],
         "xaxis": "x",
         "yaxis": "y"
        },
        {
         "alignmentgroup": "True",
         "bingroup": "x",
         "hovertemplate": "Title=Duniya<br>Year=%{x}<br>count=%{y}<extra></extra>",
         "legendgroup": "Duniya",
         "marker": {
          "color": "#EF553B",
          "pattern": {
           "shape": ""
          }
         },
         "name": "Duniya",
         "offsetgroup": "Duniya",
         "orientation": "v",
         "showlegend": true,
         "type": "histogram",
         "x": [
          1984
         ],
         "xaxis": "x",
         "yaxis": "y"
        },
        {
         "alignmentgroup": "True",
         "bingroup": "x",
         "hovertemplate": "Title=Muqaddar Ka Faisla<br>Year=%{x}<br>count=%{y}<extra></extra>",
         "legendgroup": "Muqaddar Ka Faisla",
         "marker": {
          "color": "#00cc96",
          "pattern": {
           "shape": ""
          }
         },
         "name": "Muqaddar Ka Faisla",
         "offsetgroup": "Muqaddar Ka Faisla",
         "orientation": "v",
         "showlegend": true,
         "type": "histogram",
         "x": [
          1987
         ],
         "xaxis": "x",
         "yaxis": "y"
        },
        {
         "alignmentgroup": "True",
         "bingroup": "x",
         "hovertemplate": "Title=Agneepath<br>Year=%{x}<br>count=%{y}<extra></extra>",
         "legendgroup": "Agneepath",
         "marker": {
          "color": "#ab63fa",
          "pattern": {
           "shape": ""
          }
         },
         "name": "Agneepath",
         "offsetgroup": "Agneepath",
         "orientation": "v",
         "showlegend": true,
         "type": "histogram",
         "x": [
          1990,
          2012
         ],
         "xaxis": "x",
         "yaxis": "y"
        },
        {
         "alignmentgroup": "True",
         "bingroup": "x",
         "hovertemplate": "Title=Gumrah<br>Year=%{x}<br>count=%{y}<extra></extra>",
         "legendgroup": "Gumrah",
         "marker": {
          "color": "#FFA15A",
          "pattern": {
           "shape": ""
          }
         },
         "name": "Gumrah",
         "offsetgroup": "Gumrah",
         "orientation": "v",
         "showlegend": true,
         "type": "histogram",
         "x": [
          1993
         ],
         "xaxis": "x",
         "yaxis": "y"
        },
        {
         "alignmentgroup": "True",
         "bingroup": "x",
         "hovertemplate": "Title=Duplicate<br>Year=%{x}<br>count=%{y}<extra></extra>",
         "legendgroup": "Duplicate",
         "marker": {
          "color": "#19d3f3",
          "pattern": {
           "shape": ""
          }
         },
         "name": "Duplicate",
         "offsetgroup": "Duplicate",
         "orientation": "v",
         "showlegend": true,
         "type": "histogram",
         "x": [
          1998
         ],
         "xaxis": "x",
         "yaxis": "y"
        },
        {
         "alignmentgroup": "True",
         "bingroup": "x",
         "hovertemplate": "Title=Kuch Kuch Hota Hai<br>Year=%{x}<br>count=%{y}<extra></extra>",
         "legendgroup": "Kuch Kuch Hota Hai",
         "marker": {
          "color": "#FF6692",
          "pattern": {
           "shape": ""
          }
         },
         "name": "Kuch Kuch Hota Hai",
         "offsetgroup": "Kuch Kuch Hota Hai",
         "orientation": "v",
         "showlegend": true,
         "type": "histogram",
         "x": [
          1998
         ],
         "xaxis": "x",
         "yaxis": "y"
        },
        {
         "alignmentgroup": "True",
         "bingroup": "x",
         "hovertemplate": "Title=Kabhi Khushi Kabhie Gham...<br>Year=%{x}<br>count=%{y}<extra></extra>",
         "legendgroup": "Kabhi Khushi Kabhie Gham...",
         "marker": {
          "color": "#B6E880",
          "pattern": {
           "shape": ""
          }
         },
         "name": "Kabhi Khushi Kabhie Gham...",
         "offsetgroup": "Kabhi Khushi Kabhie Gham...",
         "orientation": "v",
         "showlegend": true,
         "type": "histogram",
         "x": [
          2001
         ],
         "xaxis": "x",
         "yaxis": "y"
        },
        {
         "alignmentgroup": "True",
         "bingroup": "x",
         "hovertemplate": "Title=Kal Ho Naa Ho<br>Year=%{x}<br>count=%{y}<extra></extra>",
         "legendgroup": "Kal Ho Naa Ho",
         "marker": {
          "color": "#FF97FF",
          "pattern": {
           "shape": ""
          }
         },
         "name": "Kal Ho Naa Ho",
         "offsetgroup": "Kal Ho Naa Ho",
         "orientation": "v",
         "showlegend": true,
         "type": "histogram",
         "x": [
          2003
         ],
         "xaxis": "x",
         "yaxis": "y"
        },
        {
         "alignmentgroup": "True",
         "bingroup": "x",
         "hovertemplate": "Title=Kaal[a]<br>Year=%{x}<br>count=%{y}<extra></extra>",
         "legendgroup": "Kaal[a]",
         "marker": {
          "color": "#FECB52",
          "pattern": {
           "shape": ""
          }
         },
         "name": "Kaal[a]",
         "offsetgroup": "Kaal[a]",
         "orientation": "v",
         "showlegend": true,
         "type": "histogram",
         "x": [
          2005
         ],
         "xaxis": "x",
         "yaxis": "y"
        },
        {
         "alignmentgroup": "True",
         "bingroup": "x",
         "hovertemplate": "Title=Kabhi Alvida Naa Kehna<br>Year=%{x}<br>count=%{y}<extra></extra>",
         "legendgroup": "Kabhi Alvida Naa Kehna",
         "marker": {
          "color": "#636efa",
          "pattern": {
           "shape": ""
          }
         },
         "name": "Kabhi Alvida Naa Kehna",
         "offsetgroup": "Kabhi Alvida Naa Kehna",
         "orientation": "v",
         "showlegend": true,
         "type": "histogram",
         "x": [
          2006
         ],
         "xaxis": "x",
         "yaxis": "y"
        },
        {
         "alignmentgroup": "True",
         "bingroup": "x",
         "hovertemplate": "Title=Wake Up Sid![b]<br>Year=%{x}<br>count=%{y}<extra></extra>",
         "legendgroup": "Wake Up Sid![b]",
         "marker": {
          "color": "#EF553B",
          "pattern": {
           "shape": ""
          }
         },
         "name": "Wake Up Sid![b]",
         "offsetgroup": "Wake Up Sid![b]",
         "orientation": "v",
         "showlegend": true,
         "type": "histogram",
         "x": [
          2009
         ],
         "xaxis": "x",
         "yaxis": "y"
        },
        {
         "alignmentgroup": "True",
         "bingroup": "x",
         "hovertemplate": "Title=Kurbaan[b]<br>Year=%{x}<br>count=%{y}<extra></extra>",
         "legendgroup": "Kurbaan[b]",
         "marker": {
          "color": "#00cc96",
          "pattern": {
           "shape": ""
          }
         },
         "name": "Kurbaan[b]",
         "offsetgroup": "Kurbaan[b]",
         "orientation": "v",
         "showlegend": true,
         "type": "histogram",
         "x": [
          2009
         ],
         "xaxis": "x",
         "yaxis": "y"
        },
        {
         "alignmentgroup": "True",
         "bingroup": "x",
         "hovertemplate": "Title=My Name Is Khan[c]<br>Year=%{x}<br>count=%{y}<extra></extra>",
         "legendgroup": "My Name Is Khan[c]",
         "marker": {
          "color": "#ab63fa",
          "pattern": {
           "shape": ""
          }
         },
         "name": "My Name Is Khan[c]",
         "offsetgroup": "My Name Is Khan[c]",
         "orientation": "v",
         "showlegend": true,
         "type": "histogram",
         "x": [
          2010
         ],
         "xaxis": "x",
         "yaxis": "y"
        },
        {
         "alignmentgroup": "True",
         "bingroup": "x",
         "hovertemplate": "Title=I Hate Luv Storys[b]<br>Year=%{x}<br>count=%{y}<extra></extra>",
         "legendgroup": "I Hate Luv Storys[b]",
         "marker": {
          "color": "#FFA15A",
          "pattern": {
           "shape": ""
          }
         },
         "name": "I Hate Luv Storys[b]",
         "offsetgroup": "I Hate Luv Storys[b]",
         "orientation": "v",
         "showlegend": true,
         "type": "histogram",
         "x": [
          2010
         ],
         "xaxis": "x",
         "yaxis": "y"
        },
        {
         "alignmentgroup": "True",
         "bingroup": "x",
         "hovertemplate": "Title=We Are Family[d]<br>Year=%{x}<br>count=%{y}<extra></extra>",
         "legendgroup": "We Are Family[d]",
         "marker": {
          "color": "#19d3f3",
          "pattern": {
           "shape": ""
          }
         },
         "name": "We Are Family[d]",
         "offsetgroup": "We Are Family[d]",
         "orientation": "v",
         "showlegend": true,
         "type": "histogram",
         "x": [
          2010
         ],
         "xaxis": "x",
         "yaxis": "y"
        },
        {
         "alignmentgroup": "True",
         "bingroup": "x",
         "hovertemplate": "Title=Ek Main Aur Ekk Tu[b]<br>Year=%{x}<br>count=%{y}<extra></extra>",
         "legendgroup": "Ek Main Aur Ekk Tu[b]",
         "marker": {
          "color": "#FF6692",
          "pattern": {
           "shape": ""
          }
         },
         "name": "Ek Main Aur Ekk Tu[b]",
         "offsetgroup": "Ek Main Aur Ekk Tu[b]",
         "orientation": "v",
         "showlegend": true,
         "type": "histogram",
         "x": [
          2012
         ],
         "xaxis": "x",
         "yaxis": "y"
        },
        {
         "alignmentgroup": "True",
         "bingroup": "x",
         "hovertemplate": "Title=Student of the Year[a]<br>Year=%{x}<br>count=%{y}<extra></extra>",
         "legendgroup": "Student of the Year[a]",
         "marker": {
          "color": "#B6E880",
          "pattern": {
           "shape": ""
          }
         },
         "name": "Student of the Year[a]",
         "offsetgroup": "Student of the Year[a]",
         "orientation": "v",
         "showlegend": true,
         "type": "histogram",
         "x": [
          2012
         ],
         "xaxis": "x",
         "yaxis": "y"
        },
        {
         "alignmentgroup": "True",
         "bingroup": "x",
         "hovertemplate": "Title=Gippi[b]<br>Year=%{x}<br>count=%{y}<extra></extra>",
         "legendgroup": "Gippi[b]",
         "marker": {
          "color": "#FF97FF",
          "pattern": {
           "shape": ""
          }
         },
         "name": "Gippi[b]",
         "offsetgroup": "Gippi[b]",
         "orientation": "v",
         "showlegend": true,
         "type": "histogram",
         "x": [
          2013
         ],
         "xaxis": "x",
         "yaxis": "y"
        },
        {
         "alignmentgroup": "True",
         "bingroup": "x",
         "hovertemplate": "Title=Yeh Jawaani Hai Deewani[b]<br>Year=%{x}<br>count=%{y}<extra></extra>",
         "legendgroup": "Yeh Jawaani Hai Deewani[b]",
         "marker": {
          "color": "#FECB52",
          "pattern": {
           "shape": ""
          }
         },
         "name": "Yeh Jawaani Hai Deewani[b]",
         "offsetgroup": "Yeh Jawaani Hai Deewani[b]",
         "orientation": "v",
         "showlegend": true,
         "type": "histogram",
         "x": [
          2013
         ],
         "xaxis": "x",
         "yaxis": "y"
        },
        {
         "alignmentgroup": "True",
         "bingroup": "x",
         "hovertemplate": "Title=The Lunchbox[e]<br>Year=%{x}<br>count=%{y}<extra></extra>",
         "legendgroup": "The Lunchbox[e]",
         "marker": {
          "color": "#636efa",
          "pattern": {
           "shape": ""
          }
         },
         "name": "The Lunchbox[e]",
         "offsetgroup": "The Lunchbox[e]",
         "orientation": "v",
         "showlegend": true,
         "type": "histogram",
         "x": [
          2013
         ],
         "xaxis": "x",
         "yaxis": "y"
        },
        {
         "alignmentgroup": "True",
         "bingroup": "x",
         "hovertemplate": "Title=Gori Tere Pyaar Mein<br>Year=%{x}<br>count=%{y}<extra></extra>",
         "legendgroup": "Gori Tere Pyaar Mein",
         "marker": {
          "color": "#EF553B",
          "pattern": {
           "shape": ""
          }
         },
         "name": "Gori Tere Pyaar Mein",
         "offsetgroup": "Gori Tere Pyaar Mein",
         "orientation": "v",
         "showlegend": true,
         "type": "histogram",
         "x": [
          2013
         ],
         "xaxis": "x",
         "yaxis": "y"
        },
        {
         "alignmentgroup": "True",
         "bingroup": "x",
         "hovertemplate": "Title=Hasee Toh Phasee[f]<br>Year=%{x}<br>count=%{y}<extra></extra>",
         "legendgroup": "Hasee Toh Phasee[f]",
         "marker": {
          "color": "#00cc96",
          "pattern": {
           "shape": ""
          }
         },
         "name": "Hasee Toh Phasee[f]",
         "offsetgroup": "Hasee Toh Phasee[f]",
         "orientation": "v",
         "showlegend": true,
         "type": "histogram",
         "x": [
          2014
         ],
         "xaxis": "x",
         "yaxis": "y"
        },
        {
         "alignmentgroup": "True",
         "bingroup": "x",
         "hovertemplate": "Title=2 States[g]<br>Year=%{x}<br>count=%{y}<extra></extra>",
         "legendgroup": "2 States[g]",
         "marker": {
          "color": "#ab63fa",
          "pattern": {
           "shape": ""
          }
         },
         "name": "2 States[g]",
         "offsetgroup": "2 States[g]",
         "orientation": "v",
         "showlegend": true,
         "type": "histogram",
         "x": [
          2014
         ],
         "xaxis": "x",
         "yaxis": "y"
        },
        {
         "alignmentgroup": "True",
         "bingroup": "x",
         "hovertemplate": "Title=Humpty Sharma Ki Dulhania<br>Year=%{x}<br>count=%{y}<extra></extra>",
         "legendgroup": "Humpty Sharma Ki Dulhania",
         "marker": {
          "color": "#FFA15A",
          "pattern": {
           "shape": ""
          }
         },
         "name": "Humpty Sharma Ki Dulhania",
         "offsetgroup": "Humpty Sharma Ki Dulhania",
         "orientation": "v",
         "showlegend": true,
         "type": "histogram",
         "x": [
          2014
         ],
         "xaxis": "x",
         "yaxis": "y"
        },
        {
         "alignmentgroup": "True",
         "bingroup": "x",
         "hovertemplate": "Title=Ungli<br>Year=%{x}<br>count=%{y}<extra></extra>",
         "legendgroup": "Ungli",
         "marker": {
          "color": "#19d3f3",
          "pattern": {
           "shape": ""
          }
         },
         "name": "Ungli",
         "offsetgroup": "Ungli",
         "orientation": "v",
         "showlegend": true,
         "type": "histogram",
         "x": [
          2014
         ],
         "xaxis": "x",
         "yaxis": "y"
        },
        {
         "alignmentgroup": "True",
         "bingroup": "x",
         "hovertemplate": "Title=Brothers[h]<br>Year=%{x}<br>count=%{y}<extra></extra>",
         "legendgroup": "Brothers[h]",
         "marker": {
          "color": "#FF6692",
          "pattern": {
           "shape": ""
          }
         },
         "name": "Brothers[h]",
         "offsetgroup": "Brothers[h]",
         "orientation": "v",
         "showlegend": true,
         "type": "histogram",
         "x": [
          2015
         ],
         "xaxis": "x",
         "yaxis": "y"
        },
        {
         "alignmentgroup": "True",
         "bingroup": "x",
         "hovertemplate": "Title=Shaandaar[f]<br>Year=%{x}<br>count=%{y}<extra></extra>",
         "legendgroup": "Shaandaar[f]",
         "marker": {
          "color": "#B6E880",
          "pattern": {
           "shape": ""
          }
         },
         "name": "Shaandaar[f]",
         "offsetgroup": "Shaandaar[f]",
         "orientation": "v",
         "showlegend": true,
         "type": "histogram",
         "x": [
          2015
         ],
         "xaxis": "x",
         "yaxis": "y"
        },
        {
         "alignmentgroup": "True",
         "bingroup": "x",
         "hovertemplate": "Title=Kapoor & Sons[i]<br>Year=%{x}<br>count=%{y}<extra></extra>",
         "legendgroup": "Kapoor & Sons[i]",
         "marker": {
          "color": "#FF97FF",
          "pattern": {
           "shape": ""
          }
         },
         "name": "Kapoor & Sons[i]",
         "offsetgroup": "Kapoor & Sons[i]",
         "orientation": "v",
         "showlegend": true,
         "type": "histogram",
         "x": [
          2016
         ],
         "xaxis": "x",
         "yaxis": "y"
        },
        {
         "alignmentgroup": "True",
         "bingroup": "x",
         "hovertemplate": "Title=Baar Baar Dekho[j]<br>Year=%{x}<br>count=%{y}<extra></extra>",
         "legendgroup": "Baar Baar Dekho[j]",
         "marker": {
          "color": "#FECB52",
          "pattern": {
           "shape": ""
          }
         },
         "name": "Baar Baar Dekho[j]",
         "offsetgroup": "Baar Baar Dekho[j]",
         "orientation": "v",
         "showlegend": true,
         "type": "histogram",
         "x": [
          2016
         ],
         "xaxis": "x",
         "yaxis": "y"
        },
        {
         "alignmentgroup": "True",
         "bingroup": "x",
         "hovertemplate": "Title=Ae Dil Hai Mushkil[i]<br>Year=%{x}<br>count=%{y}<extra></extra>",
         "legendgroup": "Ae Dil Hai Mushkil[i]",
         "marker": {
          "color": "#636efa",
          "pattern": {
           "shape": ""
          }
         },
         "name": "Ae Dil Hai Mushkil[i]",
         "offsetgroup": "Ae Dil Hai Mushkil[i]",
         "orientation": "v",
         "showlegend": true,
         "type": "histogram",
         "x": [
          2016
         ],
         "xaxis": "x",
         "yaxis": "y"
        },
        {
         "alignmentgroup": "True",
         "bingroup": "x",
         "hovertemplate": "Title=Dear Zindagi[k]<br>Year=%{x}<br>count=%{y}<extra></extra>",
         "legendgroup": "Dear Zindagi[k]",
         "marker": {
          "color": "#EF553B",
          "pattern": {
           "shape": ""
          }
         },
         "name": "Dear Zindagi[k]",
         "offsetgroup": "Dear Zindagi[k]",
         "orientation": "v",
         "showlegend": true,
         "type": "histogram",
         "x": [
          2016
         ],
         "xaxis": "x",
         "yaxis": "y"
        },
        {
         "alignmentgroup": "True",
         "bingroup": "x",
         "hovertemplate": "Title=Ok Jaanu[l]<br>Year=%{x}<br>count=%{y}<extra></extra>",
         "legendgroup": "Ok Jaanu[l]",
         "marker": {
          "color": "#00cc96",
          "pattern": {
           "shape": ""
          }
         },
         "name": "Ok Jaanu[l]",
         "offsetgroup": "Ok Jaanu[l]",
         "orientation": "v",
         "showlegend": true,
         "type": "histogram",
         "x": [
          2017
         ],
         "xaxis": "x",
         "yaxis": "y"
        },
        {
         "alignmentgroup": "True",
         "bingroup": "x",
         "hovertemplate": "Title=Badrinath Ki Dulhania[i]<br>Year=%{x}<br>count=%{y}<extra></extra>",
         "legendgroup": "Badrinath Ki Dulhania[i]",
         "marker": {
          "color": "#ab63fa",
          "pattern": {
           "shape": ""
          }
         },
         "name": "Badrinath Ki Dulhania[i]",
         "offsetgroup": "Badrinath Ki Dulhania[i]",
         "orientation": "v",
         "showlegend": true,
         "type": "histogram",
         "x": [
          2017
         ],
         "xaxis": "x",
         "yaxis": "y"
        },
        {
         "alignmentgroup": "True",
         "bingroup": "x",
         "hovertemplate": "Title=Ittefaq[m]<br>Year=%{x}<br>count=%{y}<extra></extra>",
         "legendgroup": "Ittefaq[m]",
         "marker": {
          "color": "#FFA15A",
          "pattern": {
           "shape": ""
          }
         },
         "name": "Ittefaq[m]",
         "offsetgroup": "Ittefaq[m]",
         "orientation": "v",
         "showlegend": true,
         "type": "histogram",
         "x": [
          2017
         ],
         "xaxis": "x",
         "yaxis": "y"
        },
        {
         "alignmentgroup": "True",
         "bingroup": "x",
         "hovertemplate": "Title=Raazi[n]<br>Year=%{x}<br>count=%{y}<extra></extra>",
         "legendgroup": "Raazi[n]",
         "marker": {
          "color": "#19d3f3",
          "pattern": {
           "shape": ""
          }
         },
         "name": "Raazi[n]",
         "offsetgroup": "Raazi[n]",
         "orientation": "v",
         "showlegend": true,
         "type": "histogram",
         "x": [
          2018
         ],
         "xaxis": "x",
         "yaxis": "y"
        },
        {
         "alignmentgroup": "True",
         "bingroup": "x",
         "hovertemplate": "Title=Dhadak[o]<br>Year=%{x}<br>count=%{y}<extra></extra>",
         "legendgroup": "Dhadak[o]",
         "marker": {
          "color": "#FF6692",
          "pattern": {
           "shape": ""
          }
         },
         "name": "Dhadak[o]",
         "offsetgroup": "Dhadak[o]",
         "orientation": "v",
         "showlegend": true,
         "type": "histogram",
         "x": [
          2018
         ],
         "xaxis": "x",
         "yaxis": "y"
        },
        {
         "alignmentgroup": "True",
         "bingroup": "x",
         "hovertemplate": "Title=Simmba[p]<br>Year=%{x}<br>count=%{y}<extra></extra>",
         "legendgroup": "Simmba[p]",
         "marker": {
          "color": "#B6E880",
          "pattern": {
           "shape": ""
          }
         },
         "name": "Simmba[p]",
         "offsetgroup": "Simmba[p]",
         "orientation": "v",
         "showlegend": true,
         "type": "histogram",
         "x": [
          2018
         ],
         "xaxis": "x",
         "yaxis": "y"
        },
        {
         "alignmentgroup": "True",
         "bingroup": "x",
         "hovertemplate": "Title=Kesari[q]<br>Year=%{x}<br>count=%{y}<extra></extra>",
         "legendgroup": "Kesari[q]",
         "marker": {
          "color": "#FF97FF",
          "pattern": {
           "shape": ""
          }
         },
         "name": "Kesari[q]",
         "offsetgroup": "Kesari[q]",
         "orientation": "v",
         "showlegend": true,
         "type": "histogram",
         "x": [
          2019
         ],
         "xaxis": "x",
         "yaxis": "y"
        },
        {
         "alignmentgroup": "True",
         "bingroup": "x",
         "hovertemplate": "Title=Kalank[r]<br>Year=%{x}<br>count=%{y}<extra></extra>",
         "legendgroup": "Kalank[r]",
         "marker": {
          "color": "#FECB52",
          "pattern": {
           "shape": ""
          }
         },
         "name": "Kalank[r]",
         "offsetgroup": "Kalank[r]",
         "orientation": "v",
         "showlegend": true,
         "type": "histogram",
         "x": [
          2019
         ],
         "xaxis": "x",
         "yaxis": "y"
        },
        {
         "alignmentgroup": "True",
         "bingroup": "x",
         "hovertemplate": "Title=Student of the Year 2 [i]<br>Year=%{x}<br>count=%{y}<extra></extra>",
         "legendgroup": "Student of the Year 2 [i]",
         "marker": {
          "color": "#636efa",
          "pattern": {
           "shape": ""
          }
         },
         "name": "Student of the Year 2 [i]",
         "offsetgroup": "Student of the Year 2 [i]",
         "orientation": "v",
         "showlegend": true,
         "type": "histogram",
         "x": [
          2019
         ],
         "xaxis": "x",
         "yaxis": "y"
        },
        {
         "alignmentgroup": "True",
         "bingroup": "x",
         "hovertemplate": "Title=Drive [s]<br>Year=%{x}<br>count=%{y}<extra></extra>",
         "legendgroup": "Drive [s]",
         "marker": {
          "color": "#EF553B",
          "pattern": {
           "shape": ""
          }
         },
         "name": "Drive [s]",
         "offsetgroup": "Drive [s]",
         "orientation": "v",
         "showlegend": true,
         "type": "histogram",
         "x": [
          2019
         ],
         "xaxis": "x",
         "yaxis": "y"
        },
        {
         "alignmentgroup": "True",
         "bingroup": "x",
         "hovertemplate": "Title=Good Newwz[t]<br>Year=%{x}<br>count=%{y}<extra></extra>",
         "legendgroup": "Good Newwz[t]",
         "marker": {
          "color": "#00cc96",
          "pattern": {
           "shape": ""
          }
         },
         "name": "Good Newwz[t]",
         "offsetgroup": "Good Newwz[t]",
         "orientation": "v",
         "showlegend": true,
         "type": "histogram",
         "x": [
          2019
         ],
         "xaxis": "x",
         "yaxis": "y"
        },
        {
         "alignmentgroup": "True",
         "bingroup": "x",
         "hovertemplate": "Title=Bhoot – Part One: The Haunted Ship[o]<br>Year=%{x}<br>count=%{y}<extra></extra>",
         "legendgroup": "Bhoot – Part One: The Haunted Ship[o]",
         "marker": {
          "color": "#ab63fa",
          "pattern": {
           "shape": ""
          }
         },
         "name": "Bhoot – Part One: The Haunted Ship[o]",
         "offsetgroup": "Bhoot – Part One: The Haunted Ship[o]",
         "orientation": "v",
         "showlegend": true,
         "type": "histogram",
         "x": [
          2020
         ],
         "xaxis": "x",
         "yaxis": "y"
        },
        {
         "alignmentgroup": "True",
         "bingroup": "x",
         "hovertemplate": "Title=Gunjan Saxena: The Kargil Girl[o][s]<br>Year=%{x}<br>count=%{y}<extra></extra>",
         "legendgroup": "Gunjan Saxena: The Kargil Girl[o][s]",
         "marker": {
          "color": "#FFA15A",
          "pattern": {
           "shape": ""
          }
         },
         "name": "Gunjan Saxena: The Kargil Girl[o][s]",
         "offsetgroup": "Gunjan Saxena: The Kargil Girl[o][s]",
         "orientation": "v",
         "showlegend": true,
         "type": "histogram",
         "x": [
          2020
         ],
         "xaxis": "x",
         "yaxis": "y"
        },
        {
         "alignmentgroup": "True",
         "bingroup": "x",
         "hovertemplate": "Title=Shershaah[u][v]<br>Year=%{x}<br>count=%{y}<extra></extra>",
         "legendgroup": "Shershaah[u][v]",
         "marker": {
          "color": "#19d3f3",
          "pattern": {
           "shape": ""
          }
         },
         "name": "Shershaah[u][v]",
         "offsetgroup": "Shershaah[u][v]",
         "orientation": "v",
         "showlegend": true,
         "type": "histogram",
         "x": [
          2021
         ],
         "xaxis": "x",
         "yaxis": "y"
        },
        {
         "alignmentgroup": "True",
         "bingroup": "x",
         "hovertemplate": "Title=Sooryavanshi[w]<br>Year=%{x}<br>count=%{y}<extra></extra>",
         "legendgroup": "Sooryavanshi[w]",
         "marker": {
          "color": "#FF6692",
          "pattern": {
           "shape": ""
          }
         },
         "name": "Sooryavanshi[w]",
         "offsetgroup": "Sooryavanshi[w]",
         "orientation": "v",
         "showlegend": true,
         "type": "histogram",
         "x": [
          2021
         ],
         "xaxis": "x",
         "yaxis": "y"
        },
        {
         "alignmentgroup": "True",
         "bingroup": "x",
         "hovertemplate": "Title=Gehraiyaan[x][v]<br>Year=%{x}<br>count=%{y}<extra></extra>",
         "legendgroup": "Gehraiyaan[x][v]",
         "marker": {
          "color": "#B6E880",
          "pattern": {
           "shape": ""
          }
         },
         "name": "Gehraiyaan[x][v]",
         "offsetgroup": "Gehraiyaan[x][v]",
         "orientation": "v",
         "showlegend": true,
         "type": "histogram",
         "x": [
          2022
         ],
         "xaxis": "x",
         "yaxis": "y"
        },
        {
         "alignmentgroup": "True",
         "bingroup": "x",
         "hovertemplate": "Title=Govinda Naam Mera<br>Year=%{x}<br>count=%{y}<extra></extra>",
         "legendgroup": "Govinda Naam Mera",
         "marker": {
          "color": "#FF97FF",
          "pattern": {
           "shape": ""
          }
         },
         "name": "Govinda Naam Mera",
         "offsetgroup": "Govinda Naam Mera",
         "orientation": "v",
         "showlegend": true,
         "type": "histogram",
         "x": [
          2022
         ],
         "xaxis": "x",
         "yaxis": "y"
        },
        {
         "alignmentgroup": "True",
         "bingroup": "x",
         "hovertemplate": "Title=Jugjugg Jeeyo<br>Year=%{x}<br>count=%{y}<extra></extra>",
         "legendgroup": "Jugjugg Jeeyo",
         "marker": {
          "color": "#FECB52",
          "pattern": {
           "shape": ""
          }
         },
         "name": "Jugjugg Jeeyo",
         "offsetgroup": "Jugjugg Jeeyo",
         "orientation": "v",
         "showlegend": true,
         "type": "histogram",
         "x": [
          2022
         ],
         "xaxis": "x",
         "yaxis": "y"
        },
        {
         "alignmentgroup": "True",
         "bingroup": "x",
         "hovertemplate": "Title=Liger<br>Year=%{x}<br>count=%{y}<extra></extra>",
         "legendgroup": "Liger",
         "marker": {
          "color": "#636efa",
          "pattern": {
           "shape": ""
          }
         },
         "name": "Liger",
         "offsetgroup": "Liger",
         "orientation": "v",
         "showlegend": true,
         "type": "histogram",
         "x": [
          2022
         ],
         "xaxis": "x",
         "yaxis": "y"
        },
        {
         "alignmentgroup": "True",
         "bingroup": "x",
         "hovertemplate": "Title=Brahmastra<br>Year=%{x}<br>count=%{y}<extra></extra>",
         "legendgroup": "Brahmastra",
         "marker": {
          "color": "#EF553B",
          "pattern": {
           "shape": ""
          }
         },
         "name": "Brahmastra",
         "offsetgroup": "Brahmastra",
         "orientation": "v",
         "showlegend": true,
         "type": "histogram",
         "x": [
          2022
         ],
         "xaxis": "x",
         "yaxis": "y"
        },
        {
         "alignmentgroup": "True",
         "bingroup": "x",
         "hovertemplate": "Title=Mr And Mrs Mahi<br>Year=%{x}<br>count=%{y}<extra></extra>",
         "legendgroup": "Mr And Mrs Mahi",
         "marker": {
          "color": "#00cc96",
          "pattern": {
           "shape": ""
          }
         },
         "name": "Mr And Mrs Mahi",
         "offsetgroup": "Mr And Mrs Mahi",
         "orientation": "v",
         "showlegend": true,
         "type": "histogram",
         "x": [
          2022
         ],
         "xaxis": "x",
         "yaxis": "y"
        },
        {
         "alignmentgroup": "True",
         "bingroup": "x",
         "hovertemplate": "Title=Yodha<br>Year=%{x}<br>count=%{y}<extra></extra>",
         "legendgroup": "Yodha",
         "marker": {
          "color": "#ab63fa",
          "pattern": {
           "shape": ""
          }
         },
         "name": "Yodha",
         "offsetgroup": "Yodha",
         "orientation": "v",
         "showlegend": true,
         "type": "histogram",
         "x": [
          2022
         ],
         "xaxis": "x",
         "yaxis": "y"
        },
        {
         "alignmentgroup": "True",
         "bingroup": "x",
         "hovertemplate": "Title=Dostana 2<br>Year=%{x}<br>count=%{y}<extra></extra>",
         "legendgroup": "Dostana 2",
         "marker": {
          "color": "#FFA15A",
          "pattern": {
           "shape": ""
          }
         },
         "name": "Dostana 2",
         "offsetgroup": "Dostana 2",
         "orientation": "v",
         "showlegend": true,
         "type": "histogram",
         "x": [
          2022
         ],
         "xaxis": "x",
         "yaxis": "y"
        },
        {
         "alignmentgroup": "True",
         "bingroup": "x",
         "hovertemplate": "Title=Bedhadak<br>Year=%{x}<br>count=%{y}<extra></extra>",
         "legendgroup": "Bedhadak",
         "marker": {
          "color": "#19d3f3",
          "pattern": {
           "shape": ""
          }
         },
         "name": "Bedhadak",
         "offsetgroup": "Bedhadak",
         "orientation": "v",
         "showlegend": true,
         "type": "histogram",
         "x": [
          2022
         ],
         "xaxis": "x",
         "yaxis": "y"
        },
        {
         "alignmentgroup": "True",
         "bingroup": "x",
         "hovertemplate": "Title=Rocky Aur Rani Ki Prem Kahani<br>Year=%{x}<br>count=%{y}<extra></extra>",
         "legendgroup": "Rocky Aur Rani Ki Prem Kahani",
         "marker": {
          "color": "#FF6692",
          "pattern": {
           "shape": ""
          }
         },
         "name": "Rocky Aur Rani Ki Prem Kahani",
         "offsetgroup": "Rocky Aur Rani Ki Prem Kahani",
         "orientation": "v",
         "showlegend": true,
         "type": "histogram",
         "x": [
          2023
         ],
         "xaxis": "x",
         "yaxis": "y"
        },
        {
         "alignmentgroup": "True",
         "bingroup": "x",
         "hovertemplate": "Title=Anand Tiwari's untitled next<br>Year=%{x}<br>count=%{y}<extra></extra>",
         "legendgroup": "Anand Tiwari's untitled next",
         "marker": {
          "color": "#B6E880",
          "pattern": {
           "shape": ""
          }
         },
         "name": "Anand Tiwari's untitled next",
         "offsetgroup": "Anand Tiwari's untitled next",
         "orientation": "v",
         "showlegend": true,
         "type": "histogram",
         "x": [
          2023
         ],
         "xaxis": "x",
         "yaxis": "y"
        },
        {
         "alignmentgroup": "True",
         "bingroup": "x",
         "hovertemplate": "Title=Selfiee<br>Year=%{x}<br>count=%{y}<extra></extra>",
         "legendgroup": "Selfiee",
         "marker": {
          "color": "#FF97FF",
          "pattern": {
           "shape": ""
          }
         },
         "name": "Selfiee",
         "offsetgroup": "Selfiee",
         "orientation": "v",
         "showlegend": true,
         "type": "histogram",
         "x": [
          2023
         ],
         "xaxis": "x",
         "yaxis": "y"
        }
       ],
       "layout": {
        "barmode": "relative",
        "legend": {
         "title": {
          "text": "Title"
         },
         "tracegroupgap": 0
        },
        "margin": {
         "t": 60
        },
        "template": {
         "data": {
          "bar": [
           {
            "error_x": {
             "color": "#2a3f5f"
            },
            "error_y": {
             "color": "#2a3f5f"
            },
            "marker": {
             "line": {
              "color": "#E5ECF6",
              "width": 0.5
             },
             "pattern": {
              "fillmode": "overlay",
              "size": 10,
              "solidity": 0.2
             }
            },
            "type": "bar"
           }
          ],
          "barpolar": [
           {
            "marker": {
             "line": {
              "color": "#E5ECF6",
              "width": 0.5
             },
             "pattern": {
              "fillmode": "overlay",
              "size": 10,
              "solidity": 0.2
             }
            },
            "type": "barpolar"
           }
          ],
          "carpet": [
           {
            "aaxis": {
             "endlinecolor": "#2a3f5f",
             "gridcolor": "white",
             "linecolor": "white",
             "minorgridcolor": "white",
             "startlinecolor": "#2a3f5f"
            },
            "baxis": {
             "endlinecolor": "#2a3f5f",
             "gridcolor": "white",
             "linecolor": "white",
             "minorgridcolor": "white",
             "startlinecolor": "#2a3f5f"
            },
            "type": "carpet"
           }
          ],
          "choropleth": [
           {
            "colorbar": {
             "outlinewidth": 0,
             "ticks": ""
            },
            "type": "choropleth"
           }
          ],
          "contour": [
           {
            "colorbar": {
             "outlinewidth": 0,
             "ticks": ""
            },
            "colorscale": [
             [
              0,
              "#0d0887"
             ],
             [
              0.1111111111111111,
              "#46039f"
             ],
             [
              0.2222222222222222,
              "#7201a8"
             ],
             [
              0.3333333333333333,
              "#9c179e"
             ],
             [
              0.4444444444444444,
              "#bd3786"
             ],
             [
              0.5555555555555556,
              "#d8576b"
             ],
             [
              0.6666666666666666,
              "#ed7953"
             ],
             [
              0.7777777777777778,
              "#fb9f3a"
             ],
             [
              0.8888888888888888,
              "#fdca26"
             ],
             [
              1,
              "#f0f921"
             ]
            ],
            "type": "contour"
           }
          ],
          "contourcarpet": [
           {
            "colorbar": {
             "outlinewidth": 0,
             "ticks": ""
            },
            "type": "contourcarpet"
           }
          ],
          "heatmap": [
           {
            "colorbar": {
             "outlinewidth": 0,
             "ticks": ""
            },
            "colorscale": [
             [
              0,
              "#0d0887"
             ],
             [
              0.1111111111111111,
              "#46039f"
             ],
             [
              0.2222222222222222,
              "#7201a8"
             ],
             [
              0.3333333333333333,
              "#9c179e"
             ],
             [
              0.4444444444444444,
              "#bd3786"
             ],
             [
              0.5555555555555556,
              "#d8576b"
             ],
             [
              0.6666666666666666,
              "#ed7953"
             ],
             [
              0.7777777777777778,
              "#fb9f3a"
             ],
             [
              0.8888888888888888,
              "#fdca26"
             ],
             [
              1,
              "#f0f921"
             ]
            ],
            "type": "heatmap"
           }
          ],
          "heatmapgl": [
           {
            "colorbar": {
             "outlinewidth": 0,
             "ticks": ""
            },
            "colorscale": [
             [
              0,
              "#0d0887"
             ],
             [
              0.1111111111111111,
              "#46039f"
             ],
             [
              0.2222222222222222,
              "#7201a8"
             ],
             [
              0.3333333333333333,
              "#9c179e"
             ],
             [
              0.4444444444444444,
              "#bd3786"
             ],
             [
              0.5555555555555556,
              "#d8576b"
             ],
             [
              0.6666666666666666,
              "#ed7953"
             ],
             [
              0.7777777777777778,
              "#fb9f3a"
             ],
             [
              0.8888888888888888,
              "#fdca26"
             ],
             [
              1,
              "#f0f921"
             ]
            ],
            "type": "heatmapgl"
           }
          ],
          "histogram": [
           {
            "marker": {
             "pattern": {
              "fillmode": "overlay",
              "size": 10,
              "solidity": 0.2
             }
            },
            "type": "histogram"
           }
          ],
          "histogram2d": [
           {
            "colorbar": {
             "outlinewidth": 0,
             "ticks": ""
            },
            "colorscale": [
             [
              0,
              "#0d0887"
             ],
             [
              0.1111111111111111,
              "#46039f"
             ],
             [
              0.2222222222222222,
              "#7201a8"
             ],
             [
              0.3333333333333333,
              "#9c179e"
             ],
             [
              0.4444444444444444,
              "#bd3786"
             ],
             [
              0.5555555555555556,
              "#d8576b"
             ],
             [
              0.6666666666666666,
              "#ed7953"
             ],
             [
              0.7777777777777778,
              "#fb9f3a"
             ],
             [
              0.8888888888888888,
              "#fdca26"
             ],
             [
              1,
              "#f0f921"
             ]
            ],
            "type": "histogram2d"
           }
          ],
          "histogram2dcontour": [
           {
            "colorbar": {
             "outlinewidth": 0,
             "ticks": ""
            },
            "colorscale": [
             [
              0,
              "#0d0887"
             ],
             [
              0.1111111111111111,
              "#46039f"
             ],
             [
              0.2222222222222222,
              "#7201a8"
             ],
             [
              0.3333333333333333,
              "#9c179e"
             ],
             [
              0.4444444444444444,
              "#bd3786"
             ],
             [
              0.5555555555555556,
              "#d8576b"
             ],
             [
              0.6666666666666666,
              "#ed7953"
             ],
             [
              0.7777777777777778,
              "#fb9f3a"
             ],
             [
              0.8888888888888888,
              "#fdca26"
             ],
             [
              1,
              "#f0f921"
             ]
            ],
            "type": "histogram2dcontour"
           }
          ],
          "mesh3d": [
           {
            "colorbar": {
             "outlinewidth": 0,
             "ticks": ""
            },
            "type": "mesh3d"
           }
          ],
          "parcoords": [
           {
            "line": {
             "colorbar": {
              "outlinewidth": 0,
              "ticks": ""
             }
            },
            "type": "parcoords"
           }
          ],
          "pie": [
           {
            "automargin": true,
            "type": "pie"
           }
          ],
          "scatter": [
           {
            "fillpattern": {
             "fillmode": "overlay",
             "size": 10,
             "solidity": 0.2
            },
            "type": "scatter"
           }
          ],
          "scatter3d": [
           {
            "line": {
             "colorbar": {
              "outlinewidth": 0,
              "ticks": ""
             }
            },
            "marker": {
             "colorbar": {
              "outlinewidth": 0,
              "ticks": ""
             }
            },
            "type": "scatter3d"
           }
          ],
          "scattercarpet": [
           {
            "marker": {
             "colorbar": {
              "outlinewidth": 0,
              "ticks": ""
             }
            },
            "type": "scattercarpet"
           }
          ],
          "scattergeo": [
           {
            "marker": {
             "colorbar": {
              "outlinewidth": 0,
              "ticks": ""
             }
            },
            "type": "scattergeo"
           }
          ],
          "scattergl": [
           {
            "marker": {
             "colorbar": {
              "outlinewidth": 0,
              "ticks": ""
             }
            },
            "type": "scattergl"
           }
          ],
          "scattermapbox": [
           {
            "marker": {
             "colorbar": {
              "outlinewidth": 0,
              "ticks": ""
             }
            },
            "type": "scattermapbox"
           }
          ],
          "scatterpolar": [
           {
            "marker": {
             "colorbar": {
              "outlinewidth": 0,
              "ticks": ""
             }
            },
            "type": "scatterpolar"
           }
          ],
          "scatterpolargl": [
           {
            "marker": {
             "colorbar": {
              "outlinewidth": 0,
              "ticks": ""
             }
            },
            "type": "scatterpolargl"
           }
          ],
          "scatterternary": [
           {
            "marker": {
             "colorbar": {
              "outlinewidth": 0,
              "ticks": ""
             }
            },
            "type": "scatterternary"
           }
          ],
          "surface": [
           {
            "colorbar": {
             "outlinewidth": 0,
             "ticks": ""
            },
            "colorscale": [
             [
              0,
              "#0d0887"
             ],
             [
              0.1111111111111111,
              "#46039f"
             ],
             [
              0.2222222222222222,
              "#7201a8"
             ],
             [
              0.3333333333333333,
              "#9c179e"
             ],
             [
              0.4444444444444444,
              "#bd3786"
             ],
             [
              0.5555555555555556,
              "#d8576b"
             ],
             [
              0.6666666666666666,
              "#ed7953"
             ],
             [
              0.7777777777777778,
              "#fb9f3a"
             ],
             [
              0.8888888888888888,
              "#fdca26"
             ],
             [
              1,
              "#f0f921"
             ]
            ],
            "type": "surface"
           }
          ],
          "table": [
           {
            "cells": {
             "fill": {
              "color": "#EBF0F8"
             },
             "line": {
              "color": "white"
             }
            },
            "header": {
             "fill": {
              "color": "#C8D4E3"
             },
             "line": {
              "color": "white"
             }
            },
            "type": "table"
           }
          ]
         },
         "layout": {
          "annotationdefaults": {
           "arrowcolor": "#2a3f5f",
           "arrowhead": 0,
           "arrowwidth": 1
          },
          "autotypenumbers": "strict",
          "coloraxis": {
           "colorbar": {
            "outlinewidth": 0,
            "ticks": ""
           }
          },
          "colorscale": {
           "diverging": [
            [
             0,
             "#8e0152"
            ],
            [
             0.1,
             "#c51b7d"
            ],
            [
             0.2,
             "#de77ae"
            ],
            [
             0.3,
             "#f1b6da"
            ],
            [
             0.4,
             "#fde0ef"
            ],
            [
             0.5,
             "#f7f7f7"
            ],
            [
             0.6,
             "#e6f5d0"
            ],
            [
             0.7,
             "#b8e186"
            ],
            [
             0.8,
             "#7fbc41"
            ],
            [
             0.9,
             "#4d9221"
            ],
            [
             1,
             "#276419"
            ]
           ],
           "sequential": [
            [
             0,
             "#0d0887"
            ],
            [
             0.1111111111111111,
             "#46039f"
            ],
            [
             0.2222222222222222,
             "#7201a8"
            ],
            [
             0.3333333333333333,
             "#9c179e"
            ],
            [
             0.4444444444444444,
             "#bd3786"
            ],
            [
             0.5555555555555556,
             "#d8576b"
            ],
            [
             0.6666666666666666,
             "#ed7953"
            ],
            [
             0.7777777777777778,
             "#fb9f3a"
            ],
            [
             0.8888888888888888,
             "#fdca26"
            ],
            [
             1,
             "#f0f921"
            ]
           ],
           "sequentialminus": [
            [
             0,
             "#0d0887"
            ],
            [
             0.1111111111111111,
             "#46039f"
            ],
            [
             0.2222222222222222,
             "#7201a8"
            ],
            [
             0.3333333333333333,
             "#9c179e"
            ],
            [
             0.4444444444444444,
             "#bd3786"
            ],
            [
             0.5555555555555556,
             "#d8576b"
            ],
            [
             0.6666666666666666,
             "#ed7953"
            ],
            [
             0.7777777777777778,
             "#fb9f3a"
            ],
            [
             0.8888888888888888,
             "#fdca26"
            ],
            [
             1,
             "#f0f921"
            ]
           ]
          },
          "colorway": [
           "#636efa",
           "#EF553B",
           "#00cc96",
           "#ab63fa",
           "#FFA15A",
           "#19d3f3",
           "#FF6692",
           "#B6E880",
           "#FF97FF",
           "#FECB52"
          ],
          "font": {
           "color": "#2a3f5f"
          },
          "geo": {
           "bgcolor": "white",
           "lakecolor": "white",
           "landcolor": "#E5ECF6",
           "showlakes": true,
           "showland": true,
           "subunitcolor": "white"
          },
          "hoverlabel": {
           "align": "left"
          },
          "hovermode": "closest",
          "mapbox": {
           "style": "light"
          },
          "paper_bgcolor": "white",
          "plot_bgcolor": "#E5ECF6",
          "polar": {
           "angularaxis": {
            "gridcolor": "white",
            "linecolor": "white",
            "ticks": ""
           },
           "bgcolor": "#E5ECF6",
           "radialaxis": {
            "gridcolor": "white",
            "linecolor": "white",
            "ticks": ""
           }
          },
          "scene": {
           "xaxis": {
            "backgroundcolor": "#E5ECF6",
            "gridcolor": "white",
            "gridwidth": 2,
            "linecolor": "white",
            "showbackground": true,
            "ticks": "",
            "zerolinecolor": "white"
           },
           "yaxis": {
            "backgroundcolor": "#E5ECF6",
            "gridcolor": "white",
            "gridwidth": 2,
            "linecolor": "white",
            "showbackground": true,
            "ticks": "",
            "zerolinecolor": "white"
           },
           "zaxis": {
            "backgroundcolor": "#E5ECF6",
            "gridcolor": "white",
            "gridwidth": 2,
            "linecolor": "white",
            "showbackground": true,
            "ticks": "",
            "zerolinecolor": "white"
           }
          },
          "shapedefaults": {
           "line": {
            "color": "#2a3f5f"
           }
          },
          "ternary": {
           "aaxis": {
            "gridcolor": "white",
            "linecolor": "white",
            "ticks": ""
           },
           "baxis": {
            "gridcolor": "white",
            "linecolor": "white",
            "ticks": ""
           },
           "bgcolor": "#E5ECF6",
           "caxis": {
            "gridcolor": "white",
            "linecolor": "white",
            "ticks": ""
           }
          },
          "title": {
           "x": 0.05
          },
          "xaxis": {
           "automargin": true,
           "gridcolor": "white",
           "linecolor": "white",
           "ticks": "",
           "title": {
            "standoff": 15
           },
           "zerolinecolor": "white",
           "zerolinewidth": 2
          },
          "yaxis": {
           "automargin": true,
           "gridcolor": "white",
           "linecolor": "white",
           "ticks": "",
           "title": {
            "standoff": 15
           },
           "zerolinecolor": "white",
           "zerolinewidth": 2
          }
         }
        },
        "xaxis": {
         "anchor": "y",
         "domain": [
          0,
          1
         ],
         "title": {
          "text": "Year"
         }
        },
        "yaxis": {
         "anchor": "x",
         "domain": [
          0,
          1
         ],
         "title": {
          "text": "count"
         }
        }
       }
      }
     },
     "metadata": {},
     "output_type": "display_data"
    }
   ],
   "source": [
    "fig1 = px.histogram(dharma_data, x = 'Year', color = 'Title')\n",
    "fig1.show()\n"
   ]
  },
  {
   "cell_type": "code",
   "execution_count": 23,
   "metadata": {},
   "outputs": [
    {
     "data": {
      "text/plain": [
       "array(['Raj Khosla', 'Ramesh Talwar', 'Prakash Mehra', 'Mukul S. Anand',\n",
       "       'Mahesh Bhatt', 'Karan Johar', 'Nikhil Advani', 'Soham Shah',\n",
       "       'Tarun Mansukhani', 'Ayan Mukerji', \"Rensil D'Silva\",\n",
       "       'Punit Malhotra', 'Siddharth Malhotra', 'Karan Malhotra',\n",
       "       'Shakun Batra', 'Sonam Nair', 'Ritesh Batra', 'Vinil Mathew',\n",
       "       'Abhishek Varman', 'Shashank Khaitan', 'Vikas Bahl', 'Nitya Mehra',\n",
       "       'Gauri Shinde', 'Shaad Ali', 'Abhay Chopra', 'Meghna Gulzar',\n",
       "       'Rohit Shetty', 'Anurag Singh', 'Raj Mehta', 'Bhanu Pratap Singh',\n",
       "       'Sharan Sharma', 'Vishnuvardhan', 'Puri Jagannadh',\n",
       "       'Sagar AmbrePushkar Ojha', \"Collin D'Cunha\"], dtype=object)"
      ]
     },
     "execution_count": 23,
     "metadata": {},
     "output_type": "execute_result"
    }
   ],
   "source": [
    "dharma_data.Director.unique()"
   ]
  },
  {
   "cell_type": "code",
   "execution_count": 24,
   "metadata": {},
   "outputs": [
    {
     "data": {
      "text/plain": [
       "Karan Johar                8\n",
       "Shashank Khaitan           5\n",
       "Punit Malhotra             3\n",
       "Raj Mehta                  3\n",
       "Ayan Mukerji               3\n",
       "Shakun Batra               3\n",
       "Mahesh Bhatt               2\n",
       "Abhishek Varman            2\n",
       "Sharan Sharma              2\n",
       "Tarun Mansukhani           2\n",
       "Rensil D'Silva             2\n",
       "Rohit Shetty               2\n",
       "Karan Malhotra             2\n",
       "Meghna Gulzar              1\n",
       "Anurag Singh               1\n",
       "Raj Khosla                 1\n",
       "Bhanu Pratap Singh         1\n",
       "Shaad Ali                  1\n",
       "Vishnuvardhan              1\n",
       "Puri Jagannadh             1\n",
       "Sagar AmbrePushkar Ojha    1\n",
       "Abhay Chopra               1\n",
       "Vinil Mathew               1\n",
       "Gauri Shinde               1\n",
       "Nitya Mehra                1\n",
       "Vikas Bahl                 1\n",
       "Ramesh Talwar              1\n",
       "Ritesh Batra               1\n",
       "Sonam Nair                 1\n",
       "Siddharth Malhotra         1\n",
       "Soham Shah                 1\n",
       "Nikhil Advani              1\n",
       "Mukul S. Anand             1\n",
       "Prakash Mehra              1\n",
       "Collin D'Cunha             1\n",
       "Name: Director, dtype: int64"
      ]
     },
     "execution_count": 24,
     "metadata": {},
     "output_type": "execute_result"
    }
   ],
   "source": [
    "dharma_data.Director.value_counts()"
   ]
  },
  {
   "cell_type": "markdown",
   "metadata": {},
   "source": [
    "Films produced per director"
   ]
  },
  {
   "cell_type": "code",
   "execution_count": 25,
   "metadata": {},
   "outputs": [
    {
     "data": {
      "image/png": "[encoded data removed]",
      "text/plain": [
       "<Figure size 1080x432 with 1 Axes>"
      ]
     },
     "metadata": {
      "needs_background": "light"
     },
     "output_type": "display_data"
    }
   ],
   "source": [
    "plt.figure(figsize=(15,6))\n",
    "sns.countplot('Director', data = dharma_data, palette='hls')\n",
    "plt.xticks(rotation = 90)\n",
    "plt.show()"
   ]
  },
  {
   "cell_type": "code",
   "execution_count": 26,
   "metadata": {},
   "outputs": [
    {
     "data": {
      "image/png": "[encoded data removed]",
      "text/plain": [
       "<Figure size 1080x432 with 1 Axes>"
      ]
     },
     "metadata": {
      "needs_background": "light"
     },
     "output_type": "display_data"
    }
   ],
   "source": [
    "plt.figure(figsize=(15,6))\n",
    "sns.histplot(dharma_data.Director, bins = 60)\n",
    "plt.xticks(rotation = 90)\n",
    "plt.show()"
   ]
  },
  {
   "cell_type": "code",
   "execution_count": 27,
   "metadata": {},
   "outputs": [
    {
     "data": {
      "application/vnd.plotly.v1+json": {
       "config": {
        "plotlyServerURL": "https://plot.ly"
       },
       "data": [
        {
         "alignmentgroup": "True",
         "bingroup": "x",
         "hovertemplate": "Title=Dostana<br>Director=%{x}<br>count=%{y}<extra></extra>",
         "legendgroup": "Dostana",
         "marker": {
          "color": "#636efa",
          "pattern": {
           "shape": ""
          }
         },
         "name": "Dostana",
         "offsetgroup": "Dostana",
         "orientation": "v",
         "showlegend": true,
         "type": "histogram",
         "x": [
          "Raj Khosla",
          "Tarun Mansukhani"
         ],
         "xaxis": "x",
         "yaxis": "y"
        },
        {
         "alignmentgroup": "True",
         "bingroup": "x",
         "hovertemplate": "Title=Duniya<br>Director=%{x}<br>count=%{y}<extra></extra>",
         "legendgroup": "Duniya",
         "marker": {
          "color": "#EF553B",
          "pattern": {
           "shape": ""
          }
         },
         "name": "Duniya",
         "offsetgroup": "Duniya",
         "orientation": "v",
         "showlegend": true,
         "type": "histogram",
         "x": [
          "Ramesh Talwar"
         ],
         "xaxis": "x",
         "yaxis": "y"
        },
        {
         "alignmentgroup": "True",
         "bingroup": "x",
         "hovertemplate": "Title=Muqaddar Ka Faisla<br>Director=%{x}<br>count=%{y}<extra></extra>",
         "legendgroup": "Muqaddar Ka Faisla",
         "marker": {
          "color": "#00cc96",
          "pattern": {
           "shape": ""
          }
         },
         "name": "Muqaddar Ka Faisla",
         "offsetgroup": "Muqaddar Ka Faisla",
         "orientation": "v",
         "showlegend": true,
         "type": "histogram",
         "x": [
          "Prakash Mehra"
         ],
         "xaxis": "x",
         "yaxis": "y"
        },
        {
         "alignmentgroup": "True",
         "bingroup": "x",
         "hovertemplate": "Title=Agneepath<br>Director=%{x}<br>count=%{y}<extra></extra>",
         "legendgroup": "Agneepath",
         "marker": {
          "color": "#ab63fa",
          "pattern": {
           "shape": ""
          }
         },
         "name": "Agneepath",
         "offsetgroup": "Agneepath",
         "orientation": "v",
         "showlegend": true,
         "type": "histogram",
         "x": [
          "Mukul S. Anand",
          "Karan Malhotra"
         ],
         "xaxis": "x",
         "yaxis": "y"
        },
        {
         "alignmentgroup": "True",
         "bingroup": "x",
         "hovertemplate": "Title=Gumrah<br>Director=%{x}<br>count=%{y}<extra></extra>",
         "legendgroup": "Gumrah",
         "marker": {
          "color": "#FFA15A",
          "pattern": {
           "shape": ""
          }
         },
         "name": "Gumrah",
         "offsetgroup": "Gumrah",
         "orientation": "v",
         "showlegend": true,
         "type": "histogram",
         "x": [
          "Mahesh Bhatt"
         ],
         "xaxis": "x",
         "yaxis": "y"
        },
        {
         "alignmentgroup": "True",
         "bingroup": "x",
         "hovertemplate": "Title=Duplicate<br>Director=%{x}<br>count=%{y}<extra></extra>",
         "legendgroup": "Duplicate",
         "marker": {
          "color": "#19d3f3",
          "pattern": {
           "shape": ""
          }
         },
         "name": "Duplicate",
         "offsetgroup": "Duplicate",
         "orientation": "v",
         "showlegend": true,
         "type": "histogram",
         "x": [
          "Mahesh Bhatt"
         ],
         "xaxis": "x",
         "yaxis": "y"
        },
        {
         "alignmentgroup": "True",
         "bingroup": "x",
         "hovertemplate": "Title=Kuch Kuch Hota Hai<br>Director=%{x}<br>count=%{y}<extra></extra>",
         "legendgroup": "Kuch Kuch Hota Hai",
         "marker": {
          "color": "#FF6692",
          "pattern": {
           "shape": ""
          }
         },
         "name": "Kuch Kuch Hota Hai",
         "offsetgroup": "Kuch Kuch Hota Hai",
         "orientation": "v",
         "showlegend": true,
         "type": "histogram",
         "x": [
          "Karan Johar"
         ],
         "xaxis": "x",
         "yaxis": "y"
        },
        {
         "alignmentgroup": "True",
         "bingroup": "x",
         "hovertemplate": "Title=Kabhi Khushi Kabhie Gham...<br>Director=%{x}<br>count=%{y}<extra></extra>",
         "legendgroup": "Kabhi Khushi Kabhie Gham...",
         "marker": {
          "color": "#B6E880",
          "pattern": {
           "shape": ""
          }
         },
         "name": "Kabhi Khushi Kabhie Gham...",
         "offsetgroup": "Kabhi Khushi Kabhie Gham...",
         "orientation": "v",
         "showlegend": true,
         "type": "histogram",
         "x": [
          "Karan Johar"
         ],
         "xaxis": "x",
         "yaxis": "y"
        },
        {
         "alignmentgroup": "True",
         "bingroup": "x",
         "hovertemplate": "Title=Kal Ho Naa Ho<br>Director=%{x}<br>count=%{y}<extra></extra>",
         "legendgroup": "Kal Ho Naa Ho",
         "marker": {
          "color": "#FF97FF",
          "pattern": {
           "shape": ""
          }
         },
         "name": "Kal Ho Naa Ho",
         "offsetgroup": "Kal Ho Naa Ho",
         "orientation": "v",
         "showlegend": true,
         "type": "histogram",
         "x": [
          "Nikhil Advani"
         ],
         "xaxis": "x",
         "yaxis": "y"
        },
        {
         "alignmentgroup": "True",
         "bingroup": "x",
         "hovertemplate": "Title=Kaal[a]<br>Director=%{x}<br>count=%{y}<extra></extra>",
         "legendgroup": "Kaal[a]",
         "marker": {
          "color": "#FECB52",
          "pattern": {
           "shape": ""
          }
         },
         "name": "Kaal[a]",
         "offsetgroup": "Kaal[a]",
         "orientation": "v",
         "showlegend": true,
         "type": "histogram",
         "x": [
          "Soham Shah"
         ],
         "xaxis": "x",
         "yaxis": "y"
        },
        {
         "alignmentgroup": "True",
         "bingroup": "x",
         "hovertemplate": "Title=Kabhi Alvida Naa Kehna<br>Director=%{x}<br>count=%{y}<extra></extra>",
         "legendgroup": "Kabhi Alvida Naa Kehna",
         "marker": {
          "color": "#636efa",
          "pattern": {
           "shape": ""
          }
         },
         "name": "Kabhi Alvida Naa Kehna",
         "offsetgroup": "Kabhi Alvida Naa Kehna",
         "orientation": "v",
         "showlegend": true,
         "type": "histogram",
         "x": [
          "Karan Johar"
         ],
         "xaxis": "x",
         "yaxis": "y"
        },
        {
         "alignmentgroup": "True",
         "bingroup": "x",
         "hovertemplate": "Title=Wake Up Sid![b]<br>Director=%{x}<br>count=%{y}<extra></extra>",
         "legendgroup": "Wake Up Sid![b]",
         "marker": {
          "color": "#EF553B",
          "pattern": {
           "shape": ""
          }
         },
         "name": "Wake Up Sid![b]",
         "offsetgroup": "Wake Up Sid![b]",
         "orientation": "v",
         "showlegend": true,
         "type": "histogram",
         "x": [
          "Ayan Mukerji"
         ],
         "xaxis": "x",
         "yaxis": "y"
        },
        {
         "alignmentgroup": "True",
         "bingroup": "x",
         "hovertemplate": "Title=Kurbaan[b]<br>Director=%{x}<br>count=%{y}<extra></extra>",
         "legendgroup": "Kurbaan[b]",
         "marker": {
          "color": "#00cc96",
          "pattern": {
           "shape": ""
          }
         },
         "name": "Kurbaan[b]",
         "offsetgroup": "Kurbaan[b]",
         "orientation": "v",
         "showlegend": true,
         "type": "histogram",
         "x": [
          "Rensil D'Silva"
         ],
         "xaxis": "x",
         "yaxis": "y"
        },
        {
         "alignmentgroup": "True",
         "bingroup": "x",
         "hovertemplate": "Title=My Name Is Khan[c]<br>Director=%{x}<br>count=%{y}<extra></extra>",
         "legendgroup": "My Name Is Khan[c]",
         "marker": {
          "color": "#ab63fa",
          "pattern": {
           "shape": ""
          }
         },
         "name": "My Name Is Khan[c]",
         "offsetgroup": "My Name Is Khan[c]",
         "orientation": "v",
         "showlegend": true,
         "type": "histogram",
         "x": [
          "Karan Johar"
         ],
         "xaxis": "x",
         "yaxis": "y"
        },
        {
         "alignmentgroup": "True",
         "bingroup": "x",
         "hovertemplate": "Title=I Hate Luv Storys[b]<br>Director=%{x}<br>count=%{y}<extra></extra>",
         "legendgroup": "I Hate Luv Storys[b]",
         "marker": {
          "color": "#FFA15A",
          "pattern": {
           "shape": ""
          }
         },
         "name": "I Hate Luv Storys[b]",
         "offsetgroup": "I Hate Luv Storys[b]",
         "orientation": "v",
         "showlegend": true,
         "type": "histogram",
         "x": [
          "Punit Malhotra"
         ],
         "xaxis": "x",
         "yaxis": "y"
        },
        {
         "alignmentgroup": "True",
         "bingroup": "x",
         "hovertemplate": "Title=We Are Family[d]<br>Director=%{x}<br>count=%{y}<extra></extra>",
         "legendgroup": "We Are Family[d]",
         "marker": {
          "color": "#19d3f3",
          "pattern": {
           "shape": ""
          }
         },
         "name": "We Are Family[d]",
         "offsetgroup": "We Are Family[d]",
         "orientation": "v",
         "showlegend": true,
         "type": "histogram",
         "x": [
          "Siddharth Malhotra"
         ],
         "xaxis": "x",
         "yaxis": "y"
        },
        {
         "alignmentgroup": "True",
         "bingroup": "x",
         "hovertemplate": "Title=Ek Main Aur Ekk Tu[b]<br>Director=%{x}<br>count=%{y}<extra></extra>",
         "legendgroup": "Ek Main Aur Ekk Tu[b]",
         "marker": {
          "color": "#FF6692",
          "pattern": {
           "shape": ""
          }
         },
         "name": "Ek Main Aur Ekk Tu[b]",
         "offsetgroup": "Ek Main Aur Ekk Tu[b]",
         "orientation": "v",
         "showlegend": true,
         "type": "histogram",
         "x": [
          "Shakun Batra"
         ],
         "xaxis": "x",
         "yaxis": "y"
        },
        {
         "alignmentgroup": "True",
         "bingroup": "x",
         "hovertemplate": "Title=Student of the Year[a]<br>Director=%{x}<br>count=%{y}<extra></extra>",
         "legendgroup": "Student of the Year[a]",
         "marker": {
          "color": "#B6E880",
          "pattern": {
           "shape": ""
          }
         },
         "name": "Student of the Year[a]",
         "offsetgroup": "Student of the Year[a]",
         "orientation": "v",
         "showlegend": true,
         "type": "histogram",
         "x": [
          "Karan Johar"
         ],
         "xaxis": "x",
         "yaxis": "y"
        },
        {
         "alignmentgroup": "True",
         "bingroup": "x",
         "hovertemplate": "Title=Gippi[b]<br>Director=%{x}<br>count=%{y}<extra></extra>",
         "legendgroup": "Gippi[b]",
         "marker": {
          "color": "#FF97FF",
          "pattern": {
           "shape": ""
          }
         },
         "name": "Gippi[b]",
         "offsetgroup": "Gippi[b]",
         "orientation": "v",
         "showlegend": true,
         "type": "histogram",
         "x": [
          "Sonam Nair"
         ],
         "xaxis": "x",
         "yaxis": "y"
        },
        {
         "alignmentgroup": "True",
         "bingroup": "x",
         "hovertemplate": "Title=Yeh Jawaani Hai Deewani[b]<br>Director=%{x}<br>count=%{y}<extra></extra>",
         "legendgroup": "Yeh Jawaani Hai Deewani[b]",
         "marker": {
          "color": "#FECB52",
          "pattern": {
           "shape": ""
          }
         },
         "name": "Yeh Jawaani Hai Deewani[b]",
         "offsetgroup": "Yeh Jawaani Hai Deewani[b]",
         "orientation": "v",
         "showlegend": true,
         "type": "histogram",
         "x": [
          "Ayan Mukerji"
         ],
         "xaxis": "x",
         "yaxis": "y"
        },
        {
         "alignmentgroup": "True",
         "bingroup": "x",
         "hovertemplate": "Title=The Lunchbox[e]<br>Director=%{x}<br>count=%{y}<extra></extra>",
         "legendgroup": "The Lunchbox[e]",
         "marker": {
          "color": "#636efa",
          "pattern": {
           "shape": ""
          }
         },
         "name": "The Lunchbox[e]",
         "offsetgroup": "The Lunchbox[e]",
         "orientation": "v",
         "showlegend": true,
         "type": "histogram",
         "x": [
          "Ritesh Batra"
         ],
         "xaxis": "x",
         "yaxis": "y"
        },
        {
         "alignmentgroup": "True",
         "bingroup": "x",
         "hovertemplate": "Title=Gori Tere Pyaar Mein<br>Director=%{x}<br>count=%{y}<extra></extra>",
         "legendgroup": "Gori Tere Pyaar Mein",
         "marker": {
          "color": "#EF553B",
          "pattern": {
           "shape": ""
          }
         },
         "name": "Gori Tere Pyaar Mein",
         "offsetgroup": "Gori Tere Pyaar Mein",
         "orientation": "v",
         "showlegend": true,
         "type": "histogram",
         "x": [
          "Punit Malhotra"
         ],
         "xaxis": "x",
         "yaxis": "y"
        },
        {
         "alignmentgroup": "True",
         "bingroup": "x",
         "hovertemplate": "Title=Hasee Toh Phasee[f]<br>Director=%{x}<br>count=%{y}<extra></extra>",
         "legendgroup": "Hasee Toh Phasee[f]",
         "marker": {
          "color": "#00cc96",
          "pattern": {
           "shape": ""
          }
         },
         "name": "Hasee Toh Phasee[f]",
         "offsetgroup": "Hasee Toh Phasee[f]",
         "orientation": "v",
         "showlegend": true,
         "type": "histogram",
         "x": [
          "Vinil Mathew"
         ],
         "xaxis": "x",
         "yaxis": "y"
        },
        {
         "alignmentgroup": "True",
         "bingroup": "x",
         "hovertemplate": "Title=2 States[g]<br>Director=%{x}<br>count=%{y}<extra></extra>",
         "legendgroup": "2 States[g]",
         "marker": {
          "color": "#ab63fa",
          "pattern": {
           "shape": ""
          }
         },
         "name": "2 States[g]",
         "offsetgroup": "2 States[g]",
         "orientation": "v",
         "showlegend": true,
         "type": "histogram",
         "x": [
          "Abhishek Varman"
         ],
         "xaxis": "x",
         "yaxis": "y"
        },
        {
         "alignmentgroup": "True",
         "bingroup": "x",
         "hovertemplate": "Title=Humpty Sharma Ki Dulhania<br>Director=%{x}<br>count=%{y}<extra></extra>",
         "legendgroup": "Humpty Sharma Ki Dulhania",
         "marker": {
          "color": "#FFA15A",
          "pattern": {
           "shape": ""
          }
         },
         "name": "Humpty Sharma Ki Dulhania",
         "offsetgroup": "Humpty Sharma Ki Dulhania",
         "orientation": "v",
         "showlegend": true,
         "type": "histogram",
         "x": [
          "Shashank Khaitan"
         ],
         "xaxis": "x",
         "yaxis": "y"
        },
        {
         "alignmentgroup": "True",
         "bingroup": "x",
         "hovertemplate": "Title=Ungli<br>Director=%{x}<br>count=%{y}<extra></extra>",
         "legendgroup": "Ungli",
         "marker": {
          "color": "#19d3f3",
          "pattern": {
           "shape": ""
          }
         },
         "name": "Ungli",
         "offsetgroup": "Ungli",
         "orientation": "v",
         "showlegend": true,
         "type": "histogram",
         "x": [
          "Rensil D'Silva"
         ],
         "xaxis": "x",
         "yaxis": "y"
        },
        {
         "alignmentgroup": "True",
         "bingroup": "x",
         "hovertemplate": "Title=Brothers[h]<br>Director=%{x}<br>count=%{y}<extra></extra>",
         "legendgroup": "Brothers[h]",
         "marker": {
          "color": "#FF6692",
          "pattern": {
           "shape": ""
          }
         },
         "name": "Brothers[h]",
         "offsetgroup": "Brothers[h]",
         "orientation": "v",
         "showlegend": true,
         "type": "histogram",
         "x": [
          "Karan Malhotra"
         ],
         "xaxis": "x",
         "yaxis": "y"
        },
        {
         "alignmentgroup": "True",
         "bingroup": "x",
         "hovertemplate": "Title=Shaandaar[f]<br>Director=%{x}<br>count=%{y}<extra></extra>",
         "legendgroup": "Shaandaar[f]",
         "marker": {
          "color": "#B6E880",
          "pattern": {
           "shape": ""
          }
         },
         "name": "Shaandaar[f]",
         "offsetgroup": "Shaandaar[f]",
         "orientation": "v",
         "showlegend": true,
         "type": "histogram",
         "x": [
          "Vikas Bahl"
         ],
         "xaxis": "x",
         "yaxis": "y"
        },
        {
         "alignmentgroup": "True",
         "bingroup": "x",
         "hovertemplate": "Title=Kapoor & Sons[i]<br>Director=%{x}<br>count=%{y}<extra></extra>",
         "legendgroup": "Kapoor & Sons[i]",
         "marker": {
          "color": "#FF97FF",
          "pattern": {
           "shape": ""
          }
         },
         "name": "Kapoor & Sons[i]",
         "offsetgroup": "Kapoor & Sons[i]",
         "orientation": "v",
         "showlegend": true,
         "type": "histogram",
         "x": [
          "Shakun Batra"
         ],
         "xaxis": "x",
         "yaxis": "y"
        },
        {
         "alignmentgroup": "True",
         "bingroup": "x",
         "hovertemplate": "Title=Baar Baar Dekho[j]<br>Director=%{x}<br>count=%{y}<extra></extra>",
         "legendgroup": "Baar Baar Dekho[j]",
         "marker": {
          "color": "#FECB52",
          "pattern": {
           "shape": ""
          }
         },
         "name": "Baar Baar Dekho[j]",
         "offsetgroup": "Baar Baar Dekho[j]",
         "orientation": "v",
         "showlegend": true,
         "type": "histogram",
         "x": [
          "Nitya Mehra"
         ],
         "xaxis": "x",
         "yaxis": "y"
        },
        {
         "alignmentgroup": "True",
         "bingroup": "x",
         "hovertemplate": "Title=Ae Dil Hai Mushkil[i]<br>Director=%{x}<br>count=%{y}<extra></extra>",
         "legendgroup": "Ae Dil Hai Mushkil[i]",
         "marker": {
          "color": "#636efa",
          "pattern": {
           "shape": ""
          }
         },
         "name": "Ae Dil Hai Mushkil[i]",
         "offsetgroup": "Ae Dil Hai Mushkil[i]",
         "orientation": "v",
         "showlegend": true,
         "type": "histogram",
         "x": [
          "Karan Johar"
         ],
         "xaxis": "x",
         "yaxis": "y"
        },
        {
         "alignmentgroup": "True",
         "bingroup": "x",
         "hovertemplate": "Title=Dear Zindagi[k]<br>Director=%{x}<br>count=%{y}<extra></extra>",
         "legendgroup": "Dear Zindagi[k]",
         "marker": {
          "color": "#EF553B",
          "pattern": {
           "shape": ""
          }
         },
         "name": "Dear Zindagi[k]",
         "offsetgroup": "Dear Zindagi[k]",
         "orientation": "v",
         "showlegend": true,
         "type": "histogram",
         "x": [
          "Gauri Shinde"
         ],
         "xaxis": "x",
         "yaxis": "y"
        },
        {
         "alignmentgroup": "True",
         "bingroup": "x",
         "hovertemplate": "Title=Ok Jaanu[l]<br>Director=%{x}<br>count=%{y}<extra></extra>",
         "legendgroup": "Ok Jaanu[l]",
         "marker": {
          "color": "#00cc96",
          "pattern": {
           "shape": ""
          }
         },
         "name": "Ok Jaanu[l]",
         "offsetgroup": "Ok Jaanu[l]",
         "orientation": "v",
         "showlegend": true,
         "type": "histogram",
         "x": [
          "Shaad Ali"
         ],
         "xaxis": "x",
         "yaxis": "y"
        },
        {
         "alignmentgroup": "True",
         "bingroup": "x",
         "hovertemplate": "Title=Badrinath Ki Dulhania[i]<br>Director=%{x}<br>count=%{y}<extra></extra>",
         "legendgroup": "Badrinath Ki Dulhania[i]",
         "marker": {
          "color": "#ab63fa",
          "pattern": {
           "shape": ""
          }
         },
         "name": "Badrinath Ki Dulhania[i]",
         "offsetgroup": "Badrinath Ki Dulhania[i]",
         "orientation": "v",
         "showlegend": true,
         "type": "histogram",
         "x": [
          "Shashank Khaitan"
         ],
         "xaxis": "x",
         "yaxis": "y"
        },
        {
         "alignmentgroup": "True",
         "bingroup": "x",
         "hovertemplate": "Title=Ittefaq[m]<br>Director=%{x}<br>count=%{y}<extra></extra>",
         "legendgroup": "Ittefaq[m]",
         "marker": {
          "color": "#FFA15A",
          "pattern": {
           "shape": ""
          }
         },
         "name": "Ittefaq[m]",
         "offsetgroup": "Ittefaq[m]",
         "orientation": "v",
         "showlegend": true,
         "type": "histogram",
         "x": [
          "Abhay Chopra"
         ],
         "xaxis": "x",
         "yaxis": "y"
        },
        {
         "alignmentgroup": "True",
         "bingroup": "x",
         "hovertemplate": "Title=Raazi[n]<br>Director=%{x}<br>count=%{y}<extra></extra>",
         "legendgroup": "Raazi[n]",
         "marker": {
          "color": "#19d3f3",
          "pattern": {
           "shape": ""
          }
         },
         "name": "Raazi[n]",
         "offsetgroup": "Raazi[n]",
         "orientation": "v",
         "showlegend": true,
         "type": "histogram",
         "x": [
          "Meghna Gulzar"
         ],
         "xaxis": "x",
         "yaxis": "y"
        },
        {
         "alignmentgroup": "True",
         "bingroup": "x",
         "hovertemplate": "Title=Dhadak[o]<br>Director=%{x}<br>count=%{y}<extra></extra>",
         "legendgroup": "Dhadak[o]",
         "marker": {
          "color": "#FF6692",
          "pattern": {
           "shape": ""
          }
         },
         "name": "Dhadak[o]",
         "offsetgroup": "Dhadak[o]",
         "orientation": "v",
         "showlegend": true,
         "type": "histogram",
         "x": [
          "Shashank Khaitan"
         ],
         "xaxis": "x",
         "yaxis": "y"
        },
        {
         "alignmentgroup": "True",
         "bingroup": "x",
         "hovertemplate": "Title=Simmba[p]<br>Director=%{x}<br>count=%{y}<extra></extra>",
         "legendgroup": "Simmba[p]",
         "marker": {
          "color": "#B6E880",
          "pattern": {
           "shape": ""
          }
         },
         "name": "Simmba[p]",
         "offsetgroup": "Simmba[p]",
         "orientation": "v",
         "showlegend": true,
         "type": "histogram",
         "x": [
          "Rohit Shetty"
         ],
         "xaxis": "x",
         "yaxis": "y"
        },
        {
         "alignmentgroup": "True",
         "bingroup": "x",
         "hovertemplate": "Title=Kesari[q]<br>Director=%{x}<br>count=%{y}<extra></extra>",
         "legendgroup": "Kesari[q]",
         "marker": {
          "color": "#FF97FF",
          "pattern": {
           "shape": ""
          }
         },
         "name": "Kesari[q]",
         "offsetgroup": "Kesari[q]",
         "orientation": "v",
         "showlegend": true,
         "type": "histogram",
         "x": [
          "Anurag Singh"
         ],
         "xaxis": "x",
         "yaxis": "y"
        },
        {
         "alignmentgroup": "True",
         "bingroup": "x",
         "hovertemplate": "Title=Kalank[r]<br>Director=%{x}<br>count=%{y}<extra></extra>",
         "legendgroup": "Kalank[r]",
         "marker": {
          "color": "#FECB52",
          "pattern": {
           "shape": ""
          }
         },
         "name": "Kalank[r]",
         "offsetgroup": "Kalank[r]",
         "orientation": "v",
         "showlegend": true,
         "type": "histogram",
         "x": [
          "Abhishek Varman"
         ],
         "xaxis": "x",
         "yaxis": "y"
        },
        {
         "alignmentgroup": "True",
         "bingroup": "x",
         "hovertemplate": "Title=Student of the Year 2 [i]<br>Director=%{x}<br>count=%{y}<extra></extra>",
         "legendgroup": "Student of the Year 2 [i]",
         "marker": {
          "color": "#636efa",
          "pattern": {
           "shape": ""
          }
         },
         "name": "Student of the Year 2 [i]",
         "offsetgroup": "Student of the Year 2 [i]",
         "orientation": "v",
         "showlegend": true,
         "type": "histogram",
         "x": [
          "Punit Malhotra"
         ],
         "xaxis": "x",
         "yaxis": "y"
        },
        {
         "alignmentgroup": "True",
         "bingroup": "x",
         "hovertemplate": "Title=Drive [s]<br>Director=%{x}<br>count=%{y}<extra></extra>",
         "legendgroup": "Drive [s]",
         "marker": {
          "color": "#EF553B",
          "pattern": {
           "shape": ""
          }
         },
         "name": "Drive [s]",
         "offsetgroup": "Drive [s]",
         "orientation": "v",
         "showlegend": true,
         "type": "histogram",
         "x": [
          "Tarun Mansukhani"
         ],
         "xaxis": "x",
         "yaxis": "y"
        },
        {
         "alignmentgroup": "True",
         "bingroup": "x",
         "hovertemplate": "Title=Good Newwz[t]<br>Director=%{x}<br>count=%{y}<extra></extra>",
         "legendgroup": "Good Newwz[t]",
         "marker": {
          "color": "#00cc96",
          "pattern": {
           "shape": ""
          }
         },
         "name": "Good Newwz[t]",
         "offsetgroup": "Good Newwz[t]",
         "orientation": "v",
         "showlegend": true,
         "type": "histogram",
         "x": [
          "Raj Mehta"
         ],
         "xaxis": "x",
         "yaxis": "y"
        },
        {
         "alignmentgroup": "True",
         "bingroup": "x",
         "hovertemplate": "Title=Bhoot – Part One: The Haunted Ship[o]<br>Director=%{x}<br>count=%{y}<extra></extra>",
         "legendgroup": "Bhoot – Part One: The Haunted Ship[o]",
         "marker": {
          "color": "#ab63fa",
          "pattern": {
           "shape": ""
          }
         },
         "name": "Bhoot – Part One: The Haunted Ship[o]",
         "offsetgroup": "Bhoot – Part One: The Haunted Ship[o]",
         "orientation": "v",
         "showlegend": true,
         "type": "histogram",
         "x": [
          "Bhanu Pratap Singh"
         ],
         "xaxis": "x",
         "yaxis": "y"
        },
        {
         "alignmentgroup": "True",
         "bingroup": "x",
         "hovertemplate": "Title=Gunjan Saxena: The Kargil Girl[o][s]<br>Director=%{x}<br>count=%{y}<extra></extra>",
         "legendgroup": "Gunjan Saxena: The Kargil Girl[o][s]",
         "marker": {
          "color": "#FFA15A",
          "pattern": {
           "shape": ""
          }
         },
         "name": "Gunjan Saxena: The Kargil Girl[o][s]",
         "offsetgroup": "Gunjan Saxena: The Kargil Girl[o][s]",
         "orientation": "v",
         "showlegend": true,
         "type": "histogram",
         "x": [
          "Sharan Sharma"
         ],
         "xaxis": "x",
         "yaxis": "y"
        },
        {
         "alignmentgroup": "True",
         "bingroup": "x",
         "hovertemplate": "Title=Shershaah[u][v]<br>Director=%{x}<br>count=%{y}<extra></extra>",
         "legendgroup": "Shershaah[u][v]",
         "marker": {
          "color": "#19d3f3",
          "pattern": {
           "shape": ""
          }
         },
         "name": "Shershaah[u][v]",
         "offsetgroup": "Shershaah[u][v]",
         "orientation": "v",
         "showlegend": true,
         "type": "histogram",
         "x": [
          "Vishnuvardhan"
         ],
         "xaxis": "x",
         "yaxis": "y"
        },
        {
         "alignmentgroup": "True",
         "bingroup": "x",
         "hovertemplate": "Title=Sooryavanshi[w]<br>Director=%{x}<br>count=%{y}<extra></extra>",
         "legendgroup": "Sooryavanshi[w]",
         "marker": {
          "color": "#FF6692",
          "pattern": {
           "shape": ""
          }
         },
         "name": "Sooryavanshi[w]",
         "offsetgroup": "Sooryavanshi[w]",
         "orientation": "v",
         "showlegend": true,
         "type": "histogram",
         "x": [
          "Rohit Shetty"
         ],
         "xaxis": "x",
         "yaxis": "y"
        },
        {
         "alignmentgroup": "True",
         "bingroup": "x",
         "hovertemplate": "Title=Gehraiyaan[x][v]<br>Director=%{x}<br>count=%{y}<extra></extra>",
         "legendgroup": "Gehraiyaan[x][v]",
         "marker": {
          "color": "#B6E880",
          "pattern": {
           "shape": ""
          }
         },
         "name": "Gehraiyaan[x][v]",
         "offsetgroup": "Gehraiyaan[x][v]",
         "orientation": "v",
         "showlegend": true,
         "type": "histogram",
         "x": [
          "Shakun Batra"
         ],
         "xaxis": "x",
         "yaxis": "y"
        },
        {
         "alignmentgroup": "True",
         "bingroup": "x",
         "hovertemplate": "Title=Govinda Naam Mera<br>Director=%{x}<br>count=%{y}<extra></extra>",
         "legendgroup": "Govinda Naam Mera",
         "marker": {
          "color": "#FF97FF",
          "pattern": {
           "shape": ""
          }
         },
         "name": "Govinda Naam Mera",
         "offsetgroup": "Govinda Naam Mera",
         "orientation": "v",
         "showlegend": true,
         "type": "histogram",
         "x": [
          "Shashank Khaitan"
         ],
         "xaxis": "x",
         "yaxis": "y"
        },
        {
         "alignmentgroup": "True",
         "bingroup": "x",
         "hovertemplate": "Title=Jugjugg Jeeyo<br>Director=%{x}<br>count=%{y}<extra></extra>",
         "legendgroup": "Jugjugg Jeeyo",
         "marker": {
          "color": "#FECB52",
          "pattern": {
           "shape": ""
          }
         },
         "name": "Jugjugg Jeeyo",
         "offsetgroup": "Jugjugg Jeeyo",
         "orientation": "v",
         "showlegend": true,
         "type": "histogram",
         "x": [
          "Raj Mehta"
         ],
         "xaxis": "x",
         "yaxis": "y"
        },
        {
         "alignmentgroup": "True",
         "bingroup": "x",
         "hovertemplate": "Title=Liger<br>Director=%{x}<br>count=%{y}<extra></extra>",
         "legendgroup": "Liger",
         "marker": {
          "color": "#636efa",
          "pattern": {
           "shape": ""
          }
         },
         "name": "Liger",
         "offsetgroup": "Liger",
         "orientation": "v",
         "showlegend": true,
         "type": "histogram",
         "x": [
          "Puri Jagannadh"
         ],
         "xaxis": "x",
         "yaxis": "y"
        },
        {
         "alignmentgroup": "True",
         "bingroup": "x",
         "hovertemplate": "Title=Brahmastra<br>Director=%{x}<br>count=%{y}<extra></extra>",
         "legendgroup": "Brahmastra",
         "marker": {
          "color": "#EF553B",
          "pattern": {
           "shape": ""
          }
         },
         "name": "Brahmastra",
         "offsetgroup": "Brahmastra",
         "orientation": "v",
         "showlegend": true,
         "type": "histogram",
         "x": [
          "Ayan Mukerji"
         ],
         "xaxis": "x",
         "yaxis": "y"
        },
        {
         "alignmentgroup": "True",
         "bingroup": "x",
         "hovertemplate": "Title=Mr And Mrs Mahi<br>Director=%{x}<br>count=%{y}<extra></extra>",
         "legendgroup": "Mr And Mrs Mahi",
         "marker": {
          "color": "#00cc96",
          "pattern": {
           "shape": ""
          }
         },
         "name": "Mr And Mrs Mahi",
         "offsetgroup": "Mr And Mrs Mahi",
         "orientation": "v",
         "showlegend": true,
         "type": "histogram",
         "x": [
          "Sharan Sharma"
         ],
         "xaxis": "x",
         "yaxis": "y"
        },
        {
         "alignmentgroup": "True",
         "bingroup": "x",
         "hovertemplate": "Title=Yodha<br>Director=%{x}<br>count=%{y}<extra></extra>",
         "legendgroup": "Yodha",
         "marker": {
          "color": "#ab63fa",
          "pattern": {
           "shape": ""
          }
         },
         "name": "Yodha",
         "offsetgroup": "Yodha",
         "orientation": "v",
         "showlegend": true,
         "type": "histogram",
         "x": [
          "Sagar AmbrePushkar Ojha"
         ],
         "xaxis": "x",
         "yaxis": "y"
        },
        {
         "alignmentgroup": "True",
         "bingroup": "x",
         "hovertemplate": "Title=Dostana 2<br>Director=%{x}<br>count=%{y}<extra></extra>",
         "legendgroup": "Dostana 2",
         "marker": {
          "color": "#FFA15A",
          "pattern": {
           "shape": ""
          }
         },
         "name": "Dostana 2",
         "offsetgroup": "Dostana 2",
         "orientation": "v",
         "showlegend": true,
         "type": "histogram",
         "x": [
          "Collin D'Cunha"
         ],
         "xaxis": "x",
         "yaxis": "y"
        },
        {
         "alignmentgroup": "True",
         "bingroup": "x",
         "hovertemplate": "Title=Bedhadak<br>Director=%{x}<br>count=%{y}<extra></extra>",
         "legendgroup": "Bedhadak",
         "marker": {
          "color": "#19d3f3",
          "pattern": {
           "shape": ""
          }
         },
         "name": "Bedhadak",
         "offsetgroup": "Bedhadak",
         "orientation": "v",
         "showlegend": true,
         "type": "histogram",
         "x": [
          "Shashank Khaitan"
         ],
         "xaxis": "x",
         "yaxis": "y"
        },
        {
         "alignmentgroup": "True",
         "bingroup": "x",
         "hovertemplate": "Title=Rocky Aur Rani Ki Prem Kahani<br>Director=%{x}<br>count=%{y}<extra></extra>",
         "legendgroup": "Rocky Aur Rani Ki Prem Kahani",
         "marker": {
          "color": "#FF6692",
          "pattern": {
           "shape": ""
          }
         },
         "name": "Rocky Aur Rani Ki Prem Kahani",
         "offsetgroup": "Rocky Aur Rani Ki Prem Kahani",
         "orientation": "v",
         "showlegend": true,
         "type": "histogram",
         "x": [
          "Karan Johar"
         ],
         "xaxis": "x",
         "yaxis": "y"
        },
        {
         "alignmentgroup": "True",
         "bingroup": "x",
         "hovertemplate": "Title=Anand Tiwari's untitled next<br>Director=%{x}<br>count=%{y}<extra></extra>",
         "legendgroup": "Anand Tiwari's untitled next",
         "marker": {
          "color": "#B6E880",
          "pattern": {
           "shape": ""
          }
         },
         "name": "Anand Tiwari's untitled next",
         "offsetgroup": "Anand Tiwari's untitled next",
         "orientation": "v",
         "showlegend": true,
         "type": "histogram",
         "x": [
          "Karan Johar"
         ],
         "xaxis": "x",
         "yaxis": "y"
        },
        {
         "alignmentgroup": "True",
         "bingroup": "x",
         "hovertemplate": "Title=Selfiee<br>Director=%{x}<br>count=%{y}<extra></extra>",
         "legendgroup": "Selfiee",
         "marker": {
          "color": "#FF97FF",
          "pattern": {
           "shape": ""
          }
         },
         "name": "Selfiee",
         "offsetgroup": "Selfiee",
         "orientation": "v",
         "showlegend": true,
         "type": "histogram",
         "x": [
          "Raj Mehta"
         ],
         "xaxis": "x",
         "yaxis": "y"
        }
       ],
       "layout": {
        "barmode": "relative",
        "legend": {
         "title": {
          "text": "Title"
         },
         "tracegroupgap": 0
        },
        "margin": {
         "t": 60
        },
        "template": {
         "data": {
          "bar": [
           {
            "error_x": {
             "color": "#2a3f5f"
            },
            "error_y": {
             "color": "#2a3f5f"
            },
            "marker": {
             "line": {
              "color": "#E5ECF6",
              "width": 0.5
             },
             "pattern": {
              "fillmode": "overlay",
              "size": 10,
              "solidity": 0.2
             }
            },
            "type": "bar"
           }
          ],
          "barpolar": [
           {
            "marker": {
             "line": {
              "color": "#E5ECF6",
              "width": 0.5
             },
             "pattern": {
              "fillmode": "overlay",
              "size": 10,
              "solidity": 0.2
             }
            },
            "type": "barpolar"
           }
          ],
          "carpet": [
           {
            "aaxis": {
             "endlinecolor": "#2a3f5f",
             "gridcolor": "white",
             "linecolor": "white",
             "minorgridcolor": "white",
             "startlinecolor": "#2a3f5f"
            },
            "baxis": {
             "endlinecolor": "#2a3f5f",
             "gridcolor": "white",
             "linecolor": "white",
             "minorgridcolor": "white",
             "startlinecolor": "#2a3f5f"
            },
            "type": "carpet"
           }
          ],
          "choropleth": [
           {
            "colorbar": {
             "outlinewidth": 0,
             "ticks": ""
            },
            "type": "choropleth"
           }
          ],
          "contour": [
           {
            "colorbar": {
             "outlinewidth": 0,
             "ticks": ""
            },
            "colorscale": [
             [
              0,
              "#0d0887"
             ],
             [
              0.1111111111111111,
              "#46039f"
             ],
             [
              0.2222222222222222,
              "#7201a8"
             ],
             [
              0.3333333333333333,
              "#9c179e"
             ],
             [
              0.4444444444444444,
              "#bd3786"
             ],
             [
              0.5555555555555556,
              "#d8576b"
             ],
             [
              0.6666666666666666,
              "#ed7953"
             ],
             [
              0.7777777777777778,
              "#fb9f3a"
             ],
             [
              0.8888888888888888,
              "#fdca26"
             ],
             [
              1,
              "#f0f921"
             ]
            ],
            "type": "contour"
           }
          ],
          "contourcarpet": [
           {
            "colorbar": {
             "outlinewidth": 0,
             "ticks": ""
            },
            "type": "contourcarpet"
           }
          ],
          "heatmap": [
           {
            "colorbar": {
             "outlinewidth": 0,
             "ticks": ""
            },
            "colorscale": [
             [
              0,
              "#0d0887"
             ],
             [
              0.1111111111111111,
              "#46039f"
             ],
             [
              0.2222222222222222,
              "#7201a8"
             ],
             [
              0.3333333333333333,
              "#9c179e"
             ],
             [
              0.4444444444444444,
              "#bd3786"
             ],
             [
              0.5555555555555556,
              "#d8576b"
             ],
             [
              0.6666666666666666,
              "#ed7953"
             ],
             [
              0.7777777777777778,
              "#fb9f3a"
             ],
             [
              0.8888888888888888,
              "#fdca26"
             ],
             [
              1,
              "#f0f921"
             ]
            ],
            "type": "heatmap"
           }
          ],
          "heatmapgl": [
           {
            "colorbar": {
             "outlinewidth": 0,
             "ticks": ""
            },
            "colorscale": [
             [
              0,
              "#0d0887"
             ],
             [
              0.1111111111111111,
              "#46039f"
             ],
             [
              0.2222222222222222,
              "#7201a8"
             ],
             [
              0.3333333333333333,
              "#9c179e"
             ],
             [
              0.4444444444444444,
              "#bd3786"
             ],
             [
              0.5555555555555556,
              "#d8576b"
             ],
             [
              0.6666666666666666,
              "#ed7953"
             ],
             [
              0.7777777777777778,
              "#fb9f3a"
             ],
             [
              0.8888888888888888,
              "#fdca26"
             ],
             [
              1,
              "#f0f921"
             ]
            ],
            "type": "heatmapgl"
           }
          ],
          "histogram": [
           {
            "marker": {
             "pattern": {
              "fillmode": "overlay",
              "size": 10,
              "solidity": 0.2
             }
            },
            "type": "histogram"
           }
          ],
          "histogram2d": [
           {
            "colorbar": {
             "outlinewidth": 0,
             "ticks": ""
            },
            "colorscale": [
             [
              0,
              "#0d0887"
             ],
             [
              0.1111111111111111,
              "#46039f"
             ],
             [
              0.2222222222222222,
              "#7201a8"
             ],
             [
              0.3333333333333333,
              "#9c179e"
             ],
             [
              0.4444444444444444,
              "#bd3786"
             ],
             [
              0.5555555555555556,
              "#d8576b"
             ],
             [
              0.6666666666666666,
              "#ed7953"
             ],
             [
              0.7777777777777778,
              "#fb9f3a"
             ],
             [
              0.8888888888888888,
              "#fdca26"
             ],
             [
              1,
              "#f0f921"
             ]
            ],
            "type": "histogram2d"
           }
          ],
          "histogram2dcontour": [
           {
            "colorbar": {
             "outlinewidth": 0,
             "ticks": ""
            },
            "colorscale": [
             [
              0,
              "#0d0887"
             ],
             [
              0.1111111111111111,
              "#46039f"
             ],
             [
              0.2222222222222222,
              "#7201a8"
             ],
             [
              0.3333333333333333,
              "#9c179e"
             ],
             [
              0.4444444444444444,
              "#bd3786"
             ],
             [
              0.5555555555555556,
              "#d8576b"
             ],
             [
              0.6666666666666666,
              "#ed7953"
             ],
             [
              0.7777777777777778,
              "#fb9f3a"
             ],
             [
              0.8888888888888888,
              "#fdca26"
             ],
             [
              1,
              "#f0f921"
             ]
            ],
            "type": "histogram2dcontour"
           }
          ],
          "mesh3d": [
           {
            "colorbar": {
             "outlinewidth": 0,
             "ticks": ""
            },
            "type": "mesh3d"
           }
          ],
          "parcoords": [
           {
            "line": {
             "colorbar": {
              "outlinewidth": 0,
              "ticks": ""
             }
            },
            "type": "parcoords"
           }
          ],
          "pie": [
           {
            "automargin": true,
            "type": "pie"
           }
          ],
          "scatter": [
           {
            "fillpattern": {
             "fillmode": "overlay",
             "size": 10,
             "solidity": 0.2
            },
            "type": "scatter"
           }
          ],
          "scatter3d": [
           {
            "line": {
             "colorbar": {
              "outlinewidth": 0,
              "ticks": ""
             }
            },
            "marker": {
             "colorbar": {
              "outlinewidth": 0,
              "ticks": ""
             }
            },
            "type": "scatter3d"
           }
          ],
          "scattercarpet": [
           {
            "marker": {
             "colorbar": {
              "outlinewidth": 0,
              "ticks": ""
             }
            },
            "type": "scattercarpet"
           }
          ],
          "scattergeo": [
           {
            "marker": {
             "colorbar": {
              "outlinewidth": 0,
              "ticks": ""
             }
            },
            "type": "scattergeo"
           }
          ],
          "scattergl": [
           {
            "marker": {
             "colorbar": {
              "outlinewidth": 0,
              "ticks": ""
             }
            },
            "type": "scattergl"
           }
          ],
          "scattermapbox": [
           {
            "marker": {
             "colorbar": {
              "outlinewidth": 0,
              "ticks": ""
             }
            },
            "type": "scattermapbox"
           }
          ],
          "scatterpolar": [
           {
            "marker": {
             "colorbar": {
              "outlinewidth": 0,
              "ticks": ""
             }
            },
            "type": "scatterpolar"
           }
          ],
          "scatterpolargl": [
           {
            "marker": {
             "colorbar": {
              "outlinewidth": 0,
              "ticks": ""
             }
            },
            "type": "scatterpolargl"
           }
          ],
          "scatterternary": [
           {
            "marker": {
             "colorbar": {
              "outlinewidth": 0,
              "ticks": ""
             }
            },
            "type": "scatterternary"
           }
          ],
          "surface": [
           {
            "colorbar": {
             "outlinewidth": 0,
             "ticks": ""
            },
            "colorscale": [
             [
              0,
              "#0d0887"
             ],
             [
              0.1111111111111111,
              "#46039f"
             ],
             [
              0.2222222222222222,
              "#7201a8"
             ],
             [
              0.3333333333333333,
              "#9c179e"
             ],
             [
              0.4444444444444444,
              "#bd3786"
             ],
             [
              0.5555555555555556,
              "#d8576b"
             ],
             [
              0.6666666666666666,
              "#ed7953"
             ],
             [
              0.7777777777777778,
              "#fb9f3a"
             ],
             [
              0.8888888888888888,
              "#fdca26"
             ],
             [
              1,
              "#f0f921"
             ]
            ],
            "type": "surface"
           }
          ],
          "table": [
           {
            "cells": {
             "fill": {
              "color": "#EBF0F8"
             },
             "line": {
              "color": "white"
             }
            },
            "header": {
             "fill": {
              "color": "#C8D4E3"
             },
             "line": {
              "color": "white"
             }
            },
            "type": "table"
           }
          ]
         },
         "layout": {
          "annotationdefaults": {
           "arrowcolor": "#2a3f5f",
           "arrowhead": 0,
           "arrowwidth": 1
          },
          "autotypenumbers": "strict",
          "coloraxis": {
           "colorbar": {
            "outlinewidth": 0,
            "ticks": ""
           }
          },
          "colorscale": {
           "diverging": [
            [
             0,
             "#8e0152"
            ],
            [
             0.1,
             "#c51b7d"
            ],
            [
             0.2,
             "#de77ae"
            ],
            [
             0.3,
             "#f1b6da"
            ],
            [
             0.4,
             "#fde0ef"
            ],
            [
             0.5,
             "#f7f7f7"
            ],
            [
             0.6,
             "#e6f5d0"
            ],
            [
             0.7,
             "#b8e186"
            ],
            [
             0.8,
             "#7fbc41"
            ],
            [
             0.9,
             "#4d9221"
            ],
            [
             1,
             "#276419"
            ]
           ],
           "sequential": [
            [
             0,
             "#0d0887"
            ],
            [
             0.1111111111111111,
             "#46039f"
            ],
            [
             0.2222222222222222,
             "#7201a8"
            ],
            [
             0.3333333333333333,
             "#9c179e"
            ],
            [
             0.4444444444444444,
             "#bd3786"
            ],
            [
             0.5555555555555556,
             "#d8576b"
            ],
            [
             0.6666666666666666,
             "#ed7953"
            ],
            [
             0.7777777777777778,
             "#fb9f3a"
            ],
            [
             0.8888888888888888,
             "#fdca26"
            ],
            [
             1,
             "#f0f921"
            ]
           ],
           "sequentialminus": [
            [
             0,
             "#0d0887"
            ],
            [
             0.1111111111111111,
             "#46039f"
            ],
            [
             0.2222222222222222,
             "#7201a8"
            ],
            [
             0.3333333333333333,
             "#9c179e"
            ],
            [
             0.4444444444444444,
             "#bd3786"
            ],
            [
             0.5555555555555556,
             "#d8576b"
            ],
            [
             0.6666666666666666,
             "#ed7953"
            ],
            [
             0.7777777777777778,
             "#fb9f3a"
            ],
            [
             0.8888888888888888,
             "#fdca26"
            ],
            [
             1,
             "#f0f921"
            ]
           ]
          },
          "colorway": [
           "#636efa",
           "#EF553B",
           "#00cc96",
           "#ab63fa",
           "#FFA15A",
           "#19d3f3",
           "#FF6692",
           "#B6E880",
           "#FF97FF",
           "#FECB52"
          ],
          "font": {
           "color": "#2a3f5f"
          },
          "geo": {
           "bgcolor": "white",
           "lakecolor": "white",
           "landcolor": "#E5ECF6",
           "showlakes": true,
           "showland": true,
           "subunitcolor": "white"
          },
          "hoverlabel": {
           "align": "left"
          },
          "hovermode": "closest",
          "mapbox": {
           "style": "light"
          },
          "paper_bgcolor": "white",
          "plot_bgcolor": "#E5ECF6",
          "polar": {
           "angularaxis": {
            "gridcolor": "white",
            "linecolor": "white",
            "ticks": ""
           },
           "bgcolor": "#E5ECF6",
           "radialaxis": {
            "gridcolor": "white",
            "linecolor": "white",
            "ticks": ""
           }
          },
          "scene": {
           "xaxis": {
            "backgroundcolor": "#E5ECF6",
            "gridcolor": "white",
            "gridwidth": 2,
            "linecolor": "white",
            "showbackground": true,
            "ticks": "",
            "zerolinecolor": "white"
           },
           "yaxis": {
            "backgroundcolor": "#E5ECF6",
            "gridcolor": "white",
            "gridwidth": 2,
            "linecolor": "white",
            "showbackground": true,
            "ticks": "",
            "zerolinecolor": "white"
           },
           "zaxis": {
            "backgroundcolor": "#E5ECF6",
            "gridcolor": "white",
            "gridwidth": 2,
            "linecolor": "white",
            "showbackground": true,
            "ticks": "",
            "zerolinecolor": "white"
           }
          },
          "shapedefaults": {
           "line": {
            "color": "#2a3f5f"
           }
          },
          "ternary": {
           "aaxis": {
            "gridcolor": "white",
            "linecolor": "white",
            "ticks": ""
           },
           "baxis": {
            "gridcolor": "white",
            "linecolor": "white",
            "ticks": ""
           },
           "bgcolor": "#E5ECF6",
           "caxis": {
            "gridcolor": "white",
            "linecolor": "white",
            "ticks": ""
           }
          },
          "title": {
           "x": 0.05
          },
          "xaxis": {
           "automargin": true,
           "gridcolor": "white",
           "linecolor": "white",
           "ticks": "",
           "title": {
            "standoff": 15
           },
           "zerolinecolor": "white",
           "zerolinewidth": 2
          },
          "yaxis": {
           "automargin": true,
           "gridcolor": "white",
           "linecolor": "white",
           "ticks": "",
           "title": {
            "standoff": 15
           },
           "zerolinecolor": "white",
           "zerolinewidth": 2
          }
         }
        },
        "xaxis": {
         "anchor": "y",
         "domain": [
          0,
          1
         ],
         "title": {
          "text": "Director"
         }
        },
        "yaxis": {
         "anchor": "x",
         "domain": [
          0,
          1
         ],
         "title": {
          "text": "count"
         }
        }
       }
      }
     },
     "metadata": {},
     "output_type": "display_data"
    }
   ],
   "source": [
    "fig2 = px.histogram(dharma_data, x = 'Director', color = 'Title')\n",
    "fig2.show()"
   ]
  },
  {
   "cell_type": "code",
   "execution_count": 28,
   "metadata": {},
   "outputs": [
    {
     "data": {
      "text/plain": [
       "array(['Yash Johar', 'Yash Johar,Karan Johar',\n",
       "       'Karan Johar,Shah Rukh Khan', 'Hiroo Johar',\n",
       "       'Karan Johar,Hiroo Johar', 'Hiroo Johar,Gauri Khan',\n",
       "       'Karan Johar,Hiroo Johar,Ronnie Screwvala',\n",
       "       'Guneet Monga,Anurag Kashyap,Arun Rangachari',\n",
       "       'Karan Johar,Vikas Bahl,Vikramaditya Motwane,Anurag Kashyap',\n",
       "       'Karan Johar,Sajid Nadiadwala', 'Karan JoharHiroo Johar',\n",
       "       'Karan Johar,Hiroo Johar,Apoorva Mehta',\n",
       "       'Karan Johar,Farhan Akhtar, Ritesh Sidhwani',\n",
       "       'Karan JoharGauri Khan, Gauri Shinde', 'Karan JoharMani Ratnam',\n",
       "       'Karan Johar,Hiroo Johar,  Apoorva Mehta',\n",
       "       'Karan Johar, Hiroo Johar,Gauri Khan, Renu Chopra',\n",
       "       'Karan Johar,Hiroo Johar, Vineet Jain, Apoorva Mehta',\n",
       "       'Karan Johar, Hiroo Johar,Rohit Shetty, Apoorva Mehta',\n",
       "       'Karan Johar,Akshay Kumar',\n",
       "       'Karan Johar,Aruna Bhatia,Hiroo Yash Johar,Apoorva Mehta,Shashank Khaitan',\n",
       "       'Karan Johar,Hiroo Johar,Apoorva Mehta,Shashank Khaitan',\n",
       "       'Karan Johar,Hiroo Johar,Apoorva Mehta,Zee Studios',\n",
       "       'Karan Johar,Hiroo Johar,Apoorva Mehta,Shabbir Boxwala,Ajay Shah,Himanshu Gandhi',\n",
       "       'Karan Johar,Rohit Shetty,Aruna Bhatia',\n",
       "       'Karan Johar,Hiroo Johar,Apoorva Mehta,Shakun Batra',\n",
       "       'Karan Johar,Hiroo Yash Johar,Apoorva Mehta',\n",
       "       'Karan Johar,Hiroo Johar,Apoorva Mehta,Puri Jagannadh,Charmme Kaur',\n",
       "       'Karan Johar,Hiroo Yash Johar,Apoorva Mehta,Shashank Khaitan',\n",
       "       'Karan JoharHiroo Johar,Apoorva Mehta',\n",
       "       'Karan JoharHiroo Yash Johar,Apoorva Mehta',\n",
       "       'Karan JoharPrithviraj SukumaranAruna Bhatia,Hiroo Yash Johar,Apoorva Mehta'],\n",
       "      dtype=object)"
      ]
     },
     "execution_count": 28,
     "metadata": {},
     "output_type": "execute_result"
    }
   ],
   "source": [
    "dharma_data.Producers.unique()"
   ]
  },
  {
   "cell_type": "code",
   "execution_count": 29,
   "metadata": {},
   "outputs": [
    {
     "data": {
      "text/plain": [
       "Karan Johar,Hiroo Johar                                                            11\n",
       "Yash Johar                                                                          8\n",
       "Karan JoharHiroo Yash Johar,Apoorva Mehta                                           3\n",
       "Karan Johar,Hiroo Yash Johar,Apoorva Mehta                                          3\n",
       "Karan Johar,Hiroo Johar,Apoorva Mehta                                               3\n",
       "Karan Johar,Vikas Bahl,Vikramaditya Motwane,Anurag Kashyap                          2\n",
       "Karan Johar,Hiroo Johar,  Apoorva Mehta                                             2\n",
       "Karan Johar,Sajid Nadiadwala                                                        2\n",
       "Karan JoharHiroo Johar                                                              2\n",
       "Karan Johar,Hiroo Johar,Ronnie Screwvala                                            2\n",
       "Hiroo Johar,Gauri Khan                                                              2\n",
       "Karan Johar,Hiroo Yash Johar,Apoorva Mehta,Shashank Khaitan                         1\n",
       "Karan Johar,Aruna Bhatia,Hiroo Yash Johar,Apoorva Mehta,Shashank Khaitan            1\n",
       "Karan Johar,Hiroo Johar,Apoorva Mehta,Puri Jagannadh,Charmme Kaur                   1\n",
       "Karan Johar,Hiroo Johar,Apoorva Mehta,Shakun Batra                                  1\n",
       "Karan JoharHiroo Johar,Apoorva Mehta                                                1\n",
       "Karan Johar,Rohit Shetty,Aruna Bhatia                                               1\n",
       "Karan Johar,Hiroo Johar,Apoorva Mehta,Shabbir Boxwala,Ajay Shah,Himanshu Gandhi     1\n",
       "Karan Johar,Hiroo Johar,Apoorva Mehta,Zee Studios                                   1\n",
       "Karan Johar,Hiroo Johar,Apoorva Mehta,Shashank Khaitan                              1\n",
       "Karan Johar, Hiroo Johar,Gauri Khan, Renu Chopra                                    1\n",
       "Karan Johar,Akshay Kumar                                                            1\n",
       "Karan Johar, Hiroo Johar,Rohit Shetty, Apoorva Mehta                                1\n",
       "Karan Johar,Hiroo Johar, Vineet Jain, Apoorva Mehta                                 1\n",
       "Yash Johar,Karan Johar                                                              1\n",
       "Karan JoharMani Ratnam                                                              1\n",
       "Karan JoharGauri Khan, Gauri Shinde                                                 1\n",
       "Karan Johar,Farhan Akhtar, Ritesh Sidhwani                                          1\n",
       "Guneet Monga,Anurag Kashyap,Arun Rangachari                                         1\n",
       "Hiroo Johar                                                                         1\n",
       "Karan Johar,Shah Rukh Khan                                                          1\n",
       "Karan JoharPrithviraj SukumaranAruna Bhatia,Hiroo Yash Johar,Apoorva Mehta          1\n",
       "Name: Producers, dtype: int64"
      ]
     },
     "execution_count": 29,
     "metadata": {},
     "output_type": "execute_result"
    }
   ],
   "source": [
    "dharma_data.Producers.value_counts()"
   ]
  },
  {
   "cell_type": "markdown",
   "metadata": {},
   "source": [
    "Films produced per producers"
   ]
  },
  {
   "cell_type": "code",
   "execution_count": 30,
   "metadata": {},
   "outputs": [
    {
     "data": {
      "image/png": "[encoded data removed]",
      "text/plain": [
       "<Figure size 1080x432 with 1 Axes>"
      ]
     },
     "metadata": {
      "needs_background": "light"
     },
     "output_type": "display_data"
    }
   ],
   "source": [
    "plt.figure(figsize=(15,6))\n",
    "sns.countplot('Producers', data = dharma_data, palette='hls')\n",
    "plt.xticks(rotation = 90)\n",
    "plt.show()"
   ]
  },
  {
   "cell_type": "code",
   "execution_count": 31,
   "metadata": {},
   "outputs": [
    {
     "data": {
      "image/png": "[encoded data removed]",
      "text/plain": [
       "<Figure size 1080x432 with 1 Axes>"
      ]
     },
     "metadata": {
      "needs_background": "light"
     },
     "output_type": "display_data"
    }
   ],
   "source": [
    "plt.figure(figsize=(15,6))\n",
    "sns.histplot(dharma_data.Producers, bins = 60)\n",
    "plt.xticks(rotation = 90)\n",
    "plt.show()"
   ]
  },
  {
   "cell_type": "code",
   "execution_count": 32,
   "metadata": {},
   "outputs": [
    {
     "data": {
      "application/vnd.plotly.v1+json": {
       "config": {
        "plotlyServerURL": "https://plot.ly"
       },
       "data": [
        {
         "alignmentgroup": "True",
         "bingroup": "x",
         "hovertemplate": "Title=Dostana<br>Producers=%{x}<br>count=%{y}<extra></extra>",
         "legendgroup": "Dostana",
         "marker": {
          "color": "#636efa",
          "pattern": {
           "shape": ""
          }
         },
         "name": "Dostana",
         "offsetgroup": "Dostana",
         "orientation": "v",
         "showlegend": true,
         "type": "histogram",
         "x": [
          "Yash Johar",
          "Karan Johar,Hiroo Johar"
         ],
         "xaxis": "x",
         "yaxis": "y"
        },
        {
         "alignmentgroup": "True",
         "bingroup": "x",
         "hovertemplate": "Title=Duniya<br>Producers=%{x}<br>count=%{y}<extra></extra>",
         "legendgroup": "Duniya",
         "marker": {
          "color": "#EF553B",
          "pattern": {
           "shape": ""
          }
         },
         "name": "Duniya",
         "offsetgroup": "Duniya",
         "orientation": "v",
         "showlegend": true,
         "type": "histogram",
         "x": [
          "Yash Johar"
         ],
         "xaxis": "x",
         "yaxis": "y"
        },
        {
         "alignmentgroup": "True",
         "bingroup": "x",
         "hovertemplate": "Title=Muqaddar Ka Faisla<br>Producers=%{x}<br>count=%{y}<extra></extra>",
         "legendgroup": "Muqaddar Ka Faisla",
         "marker": {
          "color": "#00cc96",
          "pattern": {
           "shape": ""
          }
         },
         "name": "Muqaddar Ka Faisla",
         "offsetgroup": "Muqaddar Ka Faisla",
         "orientation": "v",
         "showlegend": true,
         "type": "histogram",
         "x": [
          "Yash Johar"
         ],
         "xaxis": "x",
         "yaxis": "y"
        },
        {
         "alignmentgroup": "True",
         "bingroup": "x",
         "hovertemplate": "Title=Agneepath<br>Producers=%{x}<br>count=%{y}<extra></extra>",
         "legendgroup": "Agneepath",
         "marker": {
          "color": "#ab63fa",
          "pattern": {
           "shape": ""
          }
         },
         "name": "Agneepath",
         "offsetgroup": "Agneepath",
         "orientation": "v",
         "showlegend": true,
         "type": "histogram",
         "x": [
          "Yash Johar",
          "Karan Johar,Hiroo Johar"
         ],
         "xaxis": "x",
         "yaxis": "y"
        },
        {
         "alignmentgroup": "True",
         "bingroup": "x",
         "hovertemplate": "Title=Gumrah<br>Producers=%{x}<br>count=%{y}<extra></extra>",
         "legendgroup": "Gumrah",
         "marker": {
          "color": "#FFA15A",
          "pattern": {
           "shape": ""
          }
         },
         "name": "Gumrah",
         "offsetgroup": "Gumrah",
         "orientation": "v",
         "showlegend": true,
         "type": "histogram",
         "x": [
          "Yash Johar"
         ],
         "xaxis": "x",
         "yaxis": "y"
        },
        {
         "alignmentgroup": "True",
         "bingroup": "x",
         "hovertemplate": "Title=Duplicate<br>Producers=%{x}<br>count=%{y}<extra></extra>",
         "legendgroup": "Duplicate",
         "marker": {
          "color": "#19d3f3",
          "pattern": {
           "shape": ""
          }
         },
         "name": "Duplicate",
         "offsetgroup": "Duplicate",
         "orientation": "v",
         "showlegend": true,
         "type": "histogram",
         "x": [
          "Yash Johar"
         ],
         "xaxis": "x",
         "yaxis": "y"
        },
        {
         "alignmentgroup": "True",
         "bingroup": "x",
         "hovertemplate": "Title=Kuch Kuch Hota Hai<br>Producers=%{x}<br>count=%{y}<extra></extra>",
         "legendgroup": "Kuch Kuch Hota Hai",
         "marker": {
          "color": "#FF6692",
          "pattern": {
           "shape": ""
          }
         },
         "name": "Kuch Kuch Hota Hai",
         "offsetgroup": "Kuch Kuch Hota Hai",
         "orientation": "v",
         "showlegend": true,
         "type": "histogram",
         "x": [
          "Yash Johar"
         ],
         "xaxis": "x",
         "yaxis": "y"
        },
        {
         "alignmentgroup": "True",
         "bingroup": "x",
         "hovertemplate": "Title=Kabhi Khushi Kabhie Gham...<br>Producers=%{x}<br>count=%{y}<extra></extra>",
         "legendgroup": "Kabhi Khushi Kabhie Gham...",
         "marker": {
          "color": "#B6E880",
          "pattern": {
           "shape": ""
          }
         },
         "name": "Kabhi Khushi Kabhie Gham...",
         "offsetgroup": "Kabhi Khushi Kabhie Gham...",
         "orientation": "v",
         "showlegend": true,
         "type": "histogram",
         "x": [
          "Yash Johar"
         ],
         "xaxis": "x",
         "yaxis": "y"
        },
        {
         "alignmentgroup": "True",
         "bingroup": "x",
         "hovertemplate": "Title=Kal Ho Naa Ho<br>Producers=%{x}<br>count=%{y}<extra></extra>",
         "legendgroup": "Kal Ho Naa Ho",
         "marker": {
          "color": "#FF97FF",
          "pattern": {
           "shape": ""
          }
         },
         "name": "Kal Ho Naa Ho",
         "offsetgroup": "Kal Ho Naa Ho",
         "orientation": "v",
         "showlegend": true,
         "type": "histogram",
         "x": [
          "Yash Johar,Karan Johar"
         ],
         "xaxis": "x",
         "yaxis": "y"
        },
        {
         "alignmentgroup": "True",
         "bingroup": "x",
         "hovertemplate": "Title=Kaal[a]<br>Producers=%{x}<br>count=%{y}<extra></extra>",
         "legendgroup": "Kaal[a]",
         "marker": {
          "color": "#FECB52",
          "pattern": {
           "shape": ""
          }
         },
         "name": "Kaal[a]",
         "offsetgroup": "Kaal[a]",
         "orientation": "v",
         "showlegend": true,
         "type": "histogram",
         "x": [
          "Karan Johar,Shah Rukh Khan"
         ],
         "xaxis": "x",
         "yaxis": "y"
        },
        {
         "alignmentgroup": "True",
         "bingroup": "x",
         "hovertemplate": "Title=Kabhi Alvida Naa Kehna<br>Producers=%{x}<br>count=%{y}<extra></extra>",
         "legendgroup": "Kabhi Alvida Naa Kehna",
         "marker": {
          "color": "#636efa",
          "pattern": {
           "shape": ""
          }
         },
         "name": "Kabhi Alvida Naa Kehna",
         "offsetgroup": "Kabhi Alvida Naa Kehna",
         "orientation": "v",
         "showlegend": true,
         "type": "histogram",
         "x": [
          "Hiroo Johar"
         ],
         "xaxis": "x",
         "yaxis": "y"
        },
        {
         "alignmentgroup": "True",
         "bingroup": "x",
         "hovertemplate": "Title=Wake Up Sid![b]<br>Producers=%{x}<br>count=%{y}<extra></extra>",
         "legendgroup": "Wake Up Sid![b]",
         "marker": {
          "color": "#EF553B",
          "pattern": {
           "shape": ""
          }
         },
         "name": "Wake Up Sid![b]",
         "offsetgroup": "Wake Up Sid![b]",
         "orientation": "v",
         "showlegend": true,
         "type": "histogram",
         "x": [
          "Karan Johar,Hiroo Johar"
         ],
         "xaxis": "x",
         "yaxis": "y"
        },
        {
         "alignmentgroup": "True",
         "bingroup": "x",
         "hovertemplate": "Title=Kurbaan[b]<br>Producers=%{x}<br>count=%{y}<extra></extra>",
         "legendgroup": "Kurbaan[b]",
         "marker": {
          "color": "#00cc96",
          "pattern": {
           "shape": ""
          }
         },
         "name": "Kurbaan[b]",
         "offsetgroup": "Kurbaan[b]",
         "orientation": "v",
         "showlegend": true,
         "type": "histogram",
         "x": [
          "Karan Johar,Hiroo Johar"
         ],
         "xaxis": "x",
         "yaxis": "y"
        },
        {
         "alignmentgroup": "True",
         "bingroup": "x",
         "hovertemplate": "Title=My Name Is Khan[c]<br>Producers=%{x}<br>count=%{y}<extra></extra>",
         "legendgroup": "My Name Is Khan[c]",
         "marker": {
          "color": "#ab63fa",
          "pattern": {
           "shape": ""
          }
         },
         "name": "My Name Is Khan[c]",
         "offsetgroup": "My Name Is Khan[c]",
         "orientation": "v",
         "showlegend": true,
         "type": "histogram",
         "x": [
          "Hiroo Johar,Gauri Khan"
         ],
         "xaxis": "x",
         "yaxis": "y"
        },
        {
         "alignmentgroup": "True",
         "bingroup": "x",
         "hovertemplate": "Title=I Hate Luv Storys[b]<br>Producers=%{x}<br>count=%{y}<extra></extra>",
         "legendgroup": "I Hate Luv Storys[b]",
         "marker": {
          "color": "#FFA15A",
          "pattern": {
           "shape": ""
          }
         },
         "name": "I Hate Luv Storys[b]",
         "offsetgroup": "I Hate Luv Storys[b]",
         "orientation": "v",
         "showlegend": true,
         "type": "histogram",
         "x": [
          "Karan Johar,Hiroo Johar,Ronnie Screwvala"
         ],
         "xaxis": "x",
         "yaxis": "y"
        },
        {
         "alignmentgroup": "True",
         "bingroup": "x",
         "hovertemplate": "Title=We Are Family[d]<br>Producers=%{x}<br>count=%{y}<extra></extra>",
         "legendgroup": "We Are Family[d]",
         "marker": {
          "color": "#19d3f3",
          "pattern": {
           "shape": ""
          }
         },
         "name": "We Are Family[d]",
         "offsetgroup": "We Are Family[d]",
         "orientation": "v",
         "showlegend": true,
         "type": "histogram",
         "x": [
          "Karan Johar,Hiroo Johar"
         ],
         "xaxis": "x",
         "yaxis": "y"
        },
        {
         "alignmentgroup": "True",
         "bingroup": "x",
         "hovertemplate": "Title=Ek Main Aur Ekk Tu[b]<br>Producers=%{x}<br>count=%{y}<extra></extra>",
         "legendgroup": "Ek Main Aur Ekk Tu[b]",
         "marker": {
          "color": "#FF6692",
          "pattern": {
           "shape": ""
          }
         },
         "name": "Ek Main Aur Ekk Tu[b]",
         "offsetgroup": "Ek Main Aur Ekk Tu[b]",
         "orientation": "v",
         "showlegend": true,
         "type": "histogram",
         "x": [
          "Karan Johar,Hiroo Johar,Ronnie Screwvala"
         ],
         "xaxis": "x",
         "yaxis": "y"
        },
        {
         "alignmentgroup": "True",
         "bingroup": "x",
         "hovertemplate": "Title=Student of the Year[a]<br>Producers=%{x}<br>count=%{y}<extra></extra>",
         "legendgroup": "Student of the Year[a]",
         "marker": {
          "color": "#B6E880",
          "pattern": {
           "shape": ""
          }
         },
         "name": "Student of the Year[a]",
         "offsetgroup": "Student of the Year[a]",
         "orientation": "v",
         "showlegend": true,
         "type": "histogram",
         "x": [
          "Hiroo Johar,Gauri Khan"
         ],
         "xaxis": "x",
         "yaxis": "y"
        },
        {
         "alignmentgroup": "True",
         "bingroup": "x",
         "hovertemplate": "Title=Gippi[b]<br>Producers=%{x}<br>count=%{y}<extra></extra>",
         "legendgroup": "Gippi[b]",
         "marker": {
          "color": "#FF97FF",
          "pattern": {
           "shape": ""
          }
         },
         "name": "Gippi[b]",
         "offsetgroup": "Gippi[b]",
         "orientation": "v",
         "showlegend": true,
         "type": "histogram",
         "x": [
          "Karan Johar,Hiroo Johar"
         ],
         "xaxis": "x",
         "yaxis": "y"
        },
        {
         "alignmentgroup": "True",
         "bingroup": "x",
         "hovertemplate": "Title=Yeh Jawaani Hai Deewani[b]<br>Producers=%{x}<br>count=%{y}<extra></extra>",
         "legendgroup": "Yeh Jawaani Hai Deewani[b]",
         "marker": {
          "color": "#FECB52",
          "pattern": {
           "shape": ""
          }
         },
         "name": "Yeh Jawaani Hai Deewani[b]",
         "offsetgroup": "Yeh Jawaani Hai Deewani[b]",
         "orientation": "v",
         "showlegend": true,
         "type": "histogram",
         "x": [
          "Karan Johar,Hiroo Johar"
         ],
         "xaxis": "x",
         "yaxis": "y"
        },
        {
         "alignmentgroup": "True",
         "bingroup": "x",
         "hovertemplate": "Title=The Lunchbox[e]<br>Producers=%{x}<br>count=%{y}<extra></extra>",
         "legendgroup": "The Lunchbox[e]",
         "marker": {
          "color": "#636efa",
          "pattern": {
           "shape": ""
          }
         },
         "name": "The Lunchbox[e]",
         "offsetgroup": "The Lunchbox[e]",
         "orientation": "v",
         "showlegend": true,
         "type": "histogram",
         "x": [
          "Guneet Monga,Anurag Kashyap,Arun Rangachari"
         ],
         "xaxis": "x",
         "yaxis": "y"
        },
        {
         "alignmentgroup": "True",
         "bingroup": "x",
         "hovertemplate": "Title=Gori Tere Pyaar Mein<br>Producers=%{x}<br>count=%{y}<extra></extra>",
         "legendgroup": "Gori Tere Pyaar Mein",
         "marker": {
          "color": "#EF553B",
          "pattern": {
           "shape": ""
          }
         },
         "name": "Gori Tere Pyaar Mein",
         "offsetgroup": "Gori Tere Pyaar Mein",
         "orientation": "v",
         "showlegend": true,
         "type": "histogram",
         "x": [
          "Karan Johar,Hiroo Johar"
         ],
         "xaxis": "x",
         "yaxis": "y"
        },
        {
         "alignmentgroup": "True",
         "bingroup": "x",
         "hovertemplate": "Title=Hasee Toh Phasee[f]<br>Producers=%{x}<br>count=%{y}<extra></extra>",
         "legendgroup": "Hasee Toh Phasee[f]",
         "marker": {
          "color": "#00cc96",
          "pattern": {
           "shape": ""
          }
         },
         "name": "Hasee Toh Phasee[f]",
         "offsetgroup": "Hasee Toh Phasee[f]",
         "orientation": "v",
         "showlegend": true,
         "type": "histogram",
         "x": [
          "Karan Johar,Vikas Bahl,Vikramaditya Motwane,Anurag Kashyap"
         ],
         "xaxis": "x",
         "yaxis": "y"
        },
        {
         "alignmentgroup": "True",
         "bingroup": "x",
         "hovertemplate": "Title=2 States[g]<br>Producers=%{x}<br>count=%{y}<extra></extra>",
         "legendgroup": "2 States[g]",
         "marker": {
          "color": "#ab63fa",
          "pattern": {
           "shape": ""
          }
         },
         "name": "2 States[g]",
         "offsetgroup": "2 States[g]",
         "orientation": "v",
         "showlegend": true,
         "type": "histogram",
         "x": [
          "Karan Johar,Sajid Nadiadwala"
         ],
         "xaxis": "x",
         "yaxis": "y"
        },
        {
         "alignmentgroup": "True",
         "bingroup": "x",
         "hovertemplate": "Title=Humpty Sharma Ki Dulhania<br>Producers=%{x}<br>count=%{y}<extra></extra>",
         "legendgroup": "Humpty Sharma Ki Dulhania",
         "marker": {
          "color": "#FFA15A",
          "pattern": {
           "shape": ""
          }
         },
         "name": "Humpty Sharma Ki Dulhania",
         "offsetgroup": "Humpty Sharma Ki Dulhania",
         "orientation": "v",
         "showlegend": true,
         "type": "histogram",
         "x": [
          "Karan Johar,Hiroo Johar"
         ],
         "xaxis": "x",
         "yaxis": "y"
        },
        {
         "alignmentgroup": "True",
         "bingroup": "x",
         "hovertemplate": "Title=Ungli<br>Producers=%{x}<br>count=%{y}<extra></extra>",
         "legendgroup": "Ungli",
         "marker": {
          "color": "#19d3f3",
          "pattern": {
           "shape": ""
          }
         },
         "name": "Ungli",
         "offsetgroup": "Ungli",
         "orientation": "v",
         "showlegend": true,
         "type": "histogram",
         "x": [
          "Karan Johar,Hiroo Johar"
         ],
         "xaxis": "x",
         "yaxis": "y"
        },
        {
         "alignmentgroup": "True",
         "bingroup": "x",
         "hovertemplate": "Title=Brothers[h]<br>Producers=%{x}<br>count=%{y}<extra></extra>",
         "legendgroup": "Brothers[h]",
         "marker": {
          "color": "#FF6692",
          "pattern": {
           "shape": ""
          }
         },
         "name": "Brothers[h]",
         "offsetgroup": "Brothers[h]",
         "orientation": "v",
         "showlegend": true,
         "type": "histogram",
         "x": [
          "Karan JoharHiroo Johar"
         ],
         "xaxis": "x",
         "yaxis": "y"
        },
        {
         "alignmentgroup": "True",
         "bingroup": "x",
         "hovertemplate": "Title=Shaandaar[f]<br>Producers=%{x}<br>count=%{y}<extra></extra>",
         "legendgroup": "Shaandaar[f]",
         "marker": {
          "color": "#B6E880",
          "pattern": {
           "shape": ""
          }
         },
         "name": "Shaandaar[f]",
         "offsetgroup": "Shaandaar[f]",
         "orientation": "v",
         "showlegend": true,
         "type": "histogram",
         "x": [
          "Karan Johar,Vikas Bahl,Vikramaditya Motwane,Anurag Kashyap"
         ],
         "xaxis": "x",
         "yaxis": "y"
        },
        {
         "alignmentgroup": "True",
         "bingroup": "x",
         "hovertemplate": "Title=Kapoor & Sons[i]<br>Producers=%{x}<br>count=%{y}<extra></extra>",
         "legendgroup": "Kapoor & Sons[i]",
         "marker": {
          "color": "#FF97FF",
          "pattern": {
           "shape": ""
          }
         },
         "name": "Kapoor & Sons[i]",
         "offsetgroup": "Kapoor & Sons[i]",
         "orientation": "v",
         "showlegend": true,
         "type": "histogram",
         "x": [
          "Karan Johar,Hiroo Johar,Apoorva Mehta"
         ],
         "xaxis": "x",
         "yaxis": "y"
        },
        {
         "alignmentgroup": "True",
         "bingroup": "x",
         "hovertemplate": "Title=Baar Baar Dekho[j]<br>Producers=%{x}<br>count=%{y}<extra></extra>",
         "legendgroup": "Baar Baar Dekho[j]",
         "marker": {
          "color": "#FECB52",
          "pattern": {
           "shape": ""
          }
         },
         "name": "Baar Baar Dekho[j]",
         "offsetgroup": "Baar Baar Dekho[j]",
         "orientation": "v",
         "showlegend": true,
         "type": "histogram",
         "x": [
          "Karan Johar,Farhan Akhtar, Ritesh Sidhwani"
         ],
         "xaxis": "x",
         "yaxis": "y"
        },
        {
         "alignmentgroup": "True",
         "bingroup": "x",
         "hovertemplate": "Title=Ae Dil Hai Mushkil[i]<br>Producers=%{x}<br>count=%{y}<extra></extra>",
         "legendgroup": "Ae Dil Hai Mushkil[i]",
         "marker": {
          "color": "#636efa",
          "pattern": {
           "shape": ""
          }
         },
         "name": "Ae Dil Hai Mushkil[i]",
         "offsetgroup": "Ae Dil Hai Mushkil[i]",
         "orientation": "v",
         "showlegend": true,
         "type": "histogram",
         "x": [
          "Karan Johar,Hiroo Johar"
         ],
         "xaxis": "x",
         "yaxis": "y"
        },
        {
         "alignmentgroup": "True",
         "bingroup": "x",
         "hovertemplate": "Title=Dear Zindagi[k]<br>Producers=%{x}<br>count=%{y}<extra></extra>",
         "legendgroup": "Dear Zindagi[k]",
         "marker": {
          "color": "#EF553B",
          "pattern": {
           "shape": ""
          }
         },
         "name": "Dear Zindagi[k]",
         "offsetgroup": "Dear Zindagi[k]",
         "orientation": "v",
         "showlegend": true,
         "type": "histogram",
         "x": [
          "Karan JoharGauri Khan, Gauri Shinde"
         ],
         "xaxis": "x",
         "yaxis": "y"
        },
        {
         "alignmentgroup": "True",
         "bingroup": "x",
         "hovertemplate": "Title=Ok Jaanu[l]<br>Producers=%{x}<br>count=%{y}<extra></extra>",
         "legendgroup": "Ok Jaanu[l]",
         "marker": {
          "color": "#00cc96",
          "pattern": {
           "shape": ""
          }
         },
         "name": "Ok Jaanu[l]",
         "offsetgroup": "Ok Jaanu[l]",
         "orientation": "v",
         "showlegend": true,
         "type": "histogram",
         "x": [
          "Karan JoharMani Ratnam"
         ],
         "xaxis": "x",
         "yaxis": "y"
        },
        {
         "alignmentgroup": "True",
         "bingroup": "x",
         "hovertemplate": "Title=Badrinath Ki Dulhania[i]<br>Producers=%{x}<br>count=%{y}<extra></extra>",
         "legendgroup": "Badrinath Ki Dulhania[i]",
         "marker": {
          "color": "#ab63fa",
          "pattern": {
           "shape": ""
          }
         },
         "name": "Badrinath Ki Dulhania[i]",
         "offsetgroup": "Badrinath Ki Dulhania[i]",
         "orientation": "v",
         "showlegend": true,
         "type": "histogram",
         "x": [
          "Karan Johar,Hiroo Johar,  Apoorva Mehta"
         ],
         "xaxis": "x",
         "yaxis": "y"
        },
        {
         "alignmentgroup": "True",
         "bingroup": "x",
         "hovertemplate": "Title=Ittefaq[m]<br>Producers=%{x}<br>count=%{y}<extra></extra>",
         "legendgroup": "Ittefaq[m]",
         "marker": {
          "color": "#FFA15A",
          "pattern": {
           "shape": ""
          }
         },
         "name": "Ittefaq[m]",
         "offsetgroup": "Ittefaq[m]",
         "orientation": "v",
         "showlegend": true,
         "type": "histogram",
         "x": [
          "Karan Johar, Hiroo Johar,Gauri Khan, Renu Chopra"
         ],
         "xaxis": "x",
         "yaxis": "y"
        },
        {
         "alignmentgroup": "True",
         "bingroup": "x",
         "hovertemplate": "Title=Raazi[n]<br>Producers=%{x}<br>count=%{y}<extra></extra>",
         "legendgroup": "Raazi[n]",
         "marker": {
          "color": "#19d3f3",
          "pattern": {
           "shape": ""
          }
         },
         "name": "Raazi[n]",
         "offsetgroup": "Raazi[n]",
         "orientation": "v",
         "showlegend": true,
         "type": "histogram",
         "x": [
          "Karan Johar,Hiroo Johar, Vineet Jain, Apoorva Mehta"
         ],
         "xaxis": "x",
         "yaxis": "y"
        },
        {
         "alignmentgroup": "True",
         "bingroup": "x",
         "hovertemplate": "Title=Dhadak[o]<br>Producers=%{x}<br>count=%{y}<extra></extra>",
         "legendgroup": "Dhadak[o]",
         "marker": {
          "color": "#FF6692",
          "pattern": {
           "shape": ""
          }
         },
         "name": "Dhadak[o]",
         "offsetgroup": "Dhadak[o]",
         "orientation": "v",
         "showlegend": true,
         "type": "histogram",
         "x": [
          "Karan Johar,Hiroo Johar,  Apoorva Mehta"
         ],
         "xaxis": "x",
         "yaxis": "y"
        },
        {
         "alignmentgroup": "True",
         "bingroup": "x",
         "hovertemplate": "Title=Simmba[p]<br>Producers=%{x}<br>count=%{y}<extra></extra>",
         "legendgroup": "Simmba[p]",
         "marker": {
          "color": "#B6E880",
          "pattern": {
           "shape": ""
          }
         },
         "name": "Simmba[p]",
         "offsetgroup": "Simmba[p]",
         "orientation": "v",
         "showlegend": true,
         "type": "histogram",
         "x": [
          "Karan Johar, Hiroo Johar,Rohit Shetty, Apoorva Mehta"
         ],
         "xaxis": "x",
         "yaxis": "y"
        },
        {
         "alignmentgroup": "True",
         "bingroup": "x",
         "hovertemplate": "Title=Kesari[q]<br>Producers=%{x}<br>count=%{y}<extra></extra>",
         "legendgroup": "Kesari[q]",
         "marker": {
          "color": "#FF97FF",
          "pattern": {
           "shape": ""
          }
         },
         "name": "Kesari[q]",
         "offsetgroup": "Kesari[q]",
         "orientation": "v",
         "showlegend": true,
         "type": "histogram",
         "x": [
          "Karan Johar,Akshay Kumar"
         ],
         "xaxis": "x",
         "yaxis": "y"
        },
        {
         "alignmentgroup": "True",
         "bingroup": "x",
         "hovertemplate": "Title=Kalank[r]<br>Producers=%{x}<br>count=%{y}<extra></extra>",
         "legendgroup": "Kalank[r]",
         "marker": {
          "color": "#FECB52",
          "pattern": {
           "shape": ""
          }
         },
         "name": "Kalank[r]",
         "offsetgroup": "Kalank[r]",
         "orientation": "v",
         "showlegend": true,
         "type": "histogram",
         "x": [
          "Karan Johar,Sajid Nadiadwala"
         ],
         "xaxis": "x",
         "yaxis": "y"
        },
        {
         "alignmentgroup": "True",
         "bingroup": "x",
         "hovertemplate": "Title=Student of the Year 2 [i]<br>Producers=%{x}<br>count=%{y}<extra></extra>",
         "legendgroup": "Student of the Year 2 [i]",
         "marker": {
          "color": "#636efa",
          "pattern": {
           "shape": ""
          }
         },
         "name": "Student of the Year 2 [i]",
         "offsetgroup": "Student of the Year 2 [i]",
         "orientation": "v",
         "showlegend": true,
         "type": "histogram",
         "x": [
          "Karan Johar,Hiroo Johar,Apoorva Mehta"
         ],
         "xaxis": "x",
         "yaxis": "y"
        },
        {
         "alignmentgroup": "True",
         "bingroup": "x",
         "hovertemplate": "Title=Drive [s]<br>Producers=%{x}<br>count=%{y}<extra></extra>",
         "legendgroup": "Drive [s]",
         "marker": {
          "color": "#EF553B",
          "pattern": {
           "shape": ""
          }
         },
         "name": "Drive [s]",
         "offsetgroup": "Drive [s]",
         "orientation": "v",
         "showlegend": true,
         "type": "histogram",
         "x": [
          "Karan JoharHiroo Johar"
         ],
         "xaxis": "x",
         "yaxis": "y"
        },
        {
         "alignmentgroup": "True",
         "bingroup": "x",
         "hovertemplate": "Title=Good Newwz[t]<br>Producers=%{x}<br>count=%{y}<extra></extra>",
         "legendgroup": "Good Newwz[t]",
         "marker": {
          "color": "#00cc96",
          "pattern": {
           "shape": ""
          }
         },
         "name": "Good Newwz[t]",
         "offsetgroup": "Good Newwz[t]",
         "orientation": "v",
         "showlegend": true,
         "type": "histogram",
         "x": [
          "Karan Johar,Aruna Bhatia,Hiroo Yash Johar,Apoorva Mehta,Shashank Khaitan"
         ],
         "xaxis": "x",
         "yaxis": "y"
        },
        {
         "alignmentgroup": "True",
         "bingroup": "x",
         "hovertemplate": "Title=Bhoot – Part One: The Haunted Ship[o]<br>Producers=%{x}<br>count=%{y}<extra></extra>",
         "legendgroup": "Bhoot – Part One: The Haunted Ship[o]",
         "marker": {
          "color": "#ab63fa",
          "pattern": {
           "shape": ""
          }
         },
         "name": "Bhoot – Part One: The Haunted Ship[o]",
         "offsetgroup": "Bhoot – Part One: The Haunted Ship[o]",
         "orientation": "v",
         "showlegend": true,
         "type": "histogram",
         "x": [
          "Karan Johar,Hiroo Johar,Apoorva Mehta,Shashank Khaitan"
         ],
         "xaxis": "x",
         "yaxis": "y"
        },
        {
         "alignmentgroup": "True",
         "bingroup": "x",
         "hovertemplate": "Title=Gunjan Saxena: The Kargil Girl[o][s]<br>Producers=%{x}<br>count=%{y}<extra></extra>",
         "legendgroup": "Gunjan Saxena: The Kargil Girl[o][s]",
         "marker": {
          "color": "#FFA15A",
          "pattern": {
           "shape": ""
          }
         },
         "name": "Gunjan Saxena: The Kargil Girl[o][s]",
         "offsetgroup": "Gunjan Saxena: The Kargil Girl[o][s]",
         "orientation": "v",
         "showlegend": true,
         "type": "histogram",
         "x": [
          "Karan Johar,Hiroo Johar,Apoorva Mehta,Zee Studios"
         ],
         "xaxis": "x",
         "yaxis": "y"
        },
        {
         "alignmentgroup": "True",
         "bingroup": "x",
         "hovertemplate": "Title=Shershaah[u][v]<br>Producers=%{x}<br>count=%{y}<extra></extra>",
         "legendgroup": "Shershaah[u][v]",
         "marker": {
          "color": "#19d3f3",
          "pattern": {
           "shape": ""
          }
         },
         "name": "Shershaah[u][v]",
         "offsetgroup": "Shershaah[u][v]",
         "orientation": "v",
         "showlegend": true,
         "type": "histogram",
         "x": [
          "Karan Johar,Hiroo Johar,Apoorva Mehta,Shabbir Boxwala,Ajay Shah,Himanshu Gandhi"
         ],
         "xaxis": "x",
         "yaxis": "y"
        },
        {
         "alignmentgroup": "True",
         "bingroup": "x",
         "hovertemplate": "Title=Sooryavanshi[w]<br>Producers=%{x}<br>count=%{y}<extra></extra>",
         "legendgroup": "Sooryavanshi[w]",
         "marker": {
          "color": "#FF6692",
          "pattern": {
           "shape": ""
          }
         },
         "name": "Sooryavanshi[w]",
         "offsetgroup": "Sooryavanshi[w]",
         "orientation": "v",
         "showlegend": true,
         "type": "histogram",
         "x": [
          "Karan Johar,Rohit Shetty,Aruna Bhatia"
         ],
         "xaxis": "x",
         "yaxis": "y"
        },
        {
         "alignmentgroup": "True",
         "bingroup": "x",
         "hovertemplate": "Title=Gehraiyaan[x][v]<br>Producers=%{x}<br>count=%{y}<extra></extra>",
         "legendgroup": "Gehraiyaan[x][v]",
         "marker": {
          "color": "#B6E880",
          "pattern": {
           "shape": ""
          }
         },
         "name": "Gehraiyaan[x][v]",
         "offsetgroup": "Gehraiyaan[x][v]",
         "orientation": "v",
         "showlegend": true,
         "type": "histogram",
         "x": [
          "Karan Johar,Hiroo Johar,Apoorva Mehta,Shakun Batra"
         ],
         "xaxis": "x",
         "yaxis": "y"
        },
        {
         "alignmentgroup": "True",
         "bingroup": "x",
         "hovertemplate": "Title=Govinda Naam Mera<br>Producers=%{x}<br>count=%{y}<extra></extra>",
         "legendgroup": "Govinda Naam Mera",
         "marker": {
          "color": "#FF97FF",
          "pattern": {
           "shape": ""
          }
         },
         "name": "Govinda Naam Mera",
         "offsetgroup": "Govinda Naam Mera",
         "orientation": "v",
         "showlegend": true,
         "type": "histogram",
         "x": [
          "Karan Johar,Hiroo Yash Johar,Apoorva Mehta"
         ],
         "xaxis": "x",
         "yaxis": "y"
        },
        {
         "alignmentgroup": "True",
         "bingroup": "x",
         "hovertemplate": "Title=Jugjugg Jeeyo<br>Producers=%{x}<br>count=%{y}<extra></extra>",
         "legendgroup": "Jugjugg Jeeyo",
         "marker": {
          "color": "#FECB52",
          "pattern": {
           "shape": ""
          }
         },
         "name": "Jugjugg Jeeyo",
         "offsetgroup": "Jugjugg Jeeyo",
         "orientation": "v",
         "showlegend": true,
         "type": "histogram",
         "x": [
          "Karan Johar,Hiroo Yash Johar,Apoorva Mehta"
         ],
         "xaxis": "x",
         "yaxis": "y"
        },
        {
         "alignmentgroup": "True",
         "bingroup": "x",
         "hovertemplate": "Title=Liger<br>Producers=%{x}<br>count=%{y}<extra></extra>",
         "legendgroup": "Liger",
         "marker": {
          "color": "#636efa",
          "pattern": {
           "shape": ""
          }
         },
         "name": "Liger",
         "offsetgroup": "Liger",
         "orientation": "v",
         "showlegend": true,
         "type": "histogram",
         "x": [
          "Karan Johar,Hiroo Johar,Apoorva Mehta,Puri Jagannadh,Charmme Kaur"
         ],
         "xaxis": "x",
         "yaxis": "y"
        },
        {
         "alignmentgroup": "True",
         "bingroup": "x",
         "hovertemplate": "Title=Brahmastra<br>Producers=%{x}<br>count=%{y}<extra></extra>",
         "legendgroup": "Brahmastra",
         "marker": {
          "color": "#EF553B",
          "pattern": {
           "shape": ""
          }
         },
         "name": "Brahmastra",
         "offsetgroup": "Brahmastra",
         "orientation": "v",
         "showlegend": true,
         "type": "histogram",
         "x": [
          "Karan Johar,Hiroo Johar,Apoorva Mehta"
         ],
         "xaxis": "x",
         "yaxis": "y"
        },
        {
         "alignmentgroup": "True",
         "bingroup": "x",
         "hovertemplate": "Title=Mr And Mrs Mahi<br>Producers=%{x}<br>count=%{y}<extra></extra>",
         "legendgroup": "Mr And Mrs Mahi",
         "marker": {
          "color": "#00cc96",
          "pattern": {
           "shape": ""
          }
         },
         "name": "Mr And Mrs Mahi",
         "offsetgroup": "Mr And Mrs Mahi",
         "orientation": "v",
         "showlegend": true,
         "type": "histogram",
         "x": [
          "Karan Johar,Hiroo Yash Johar,Apoorva Mehta"
         ],
         "xaxis": "x",
         "yaxis": "y"
        },
        {
         "alignmentgroup": "True",
         "bingroup": "x",
         "hovertemplate": "Title=Yodha<br>Producers=%{x}<br>count=%{y}<extra></extra>",
         "legendgroup": "Yodha",
         "marker": {
          "color": "#ab63fa",
          "pattern": {
           "shape": ""
          }
         },
         "name": "Yodha",
         "offsetgroup": "Yodha",
         "orientation": "v",
         "showlegend": true,
         "type": "histogram",
         "x": [
          "Karan Johar,Hiroo Yash Johar,Apoorva Mehta,Shashank Khaitan"
         ],
         "xaxis": "x",
         "yaxis": "y"
        },
        {
         "alignmentgroup": "True",
         "bingroup": "x",
         "hovertemplate": "Title=Dostana 2<br>Producers=%{x}<br>count=%{y}<extra></extra>",
         "legendgroup": "Dostana 2",
         "marker": {
          "color": "#FFA15A",
          "pattern": {
           "shape": ""
          }
         },
         "name": "Dostana 2",
         "offsetgroup": "Dostana 2",
         "orientation": "v",
         "showlegend": true,
         "type": "histogram",
         "x": [
          "Karan JoharHiroo Johar,Apoorva Mehta"
         ],
         "xaxis": "x",
         "yaxis": "y"
        },
        {
         "alignmentgroup": "True",
         "bingroup": "x",
         "hovertemplate": "Title=Bedhadak<br>Producers=%{x}<br>count=%{y}<extra></extra>",
         "legendgroup": "Bedhadak",
         "marker": {
          "color": "#19d3f3",
          "pattern": {
           "shape": ""
          }
         },
         "name": "Bedhadak",
         "offsetgroup": "Bedhadak",
         "orientation": "v",
         "showlegend": true,
         "type": "histogram",
         "x": [
          "Karan JoharHiroo Yash Johar,Apoorva Mehta"
         ],
         "xaxis": "x",
         "yaxis": "y"
        },
        {
         "alignmentgroup": "True",
         "bingroup": "x",
         "hovertemplate": "Title=Rocky Aur Rani Ki Prem Kahani<br>Producers=%{x}<br>count=%{y}<extra></extra>",
         "legendgroup": "Rocky Aur Rani Ki Prem Kahani",
         "marker": {
          "color": "#FF6692",
          "pattern": {
           "shape": ""
          }
         },
         "name": "Rocky Aur Rani Ki Prem Kahani",
         "offsetgroup": "Rocky Aur Rani Ki Prem Kahani",
         "orientation": "v",
         "showlegend": true,
         "type": "histogram",
         "x": [
          "Karan JoharHiroo Yash Johar,Apoorva Mehta"
         ],
         "xaxis": "x",
         "yaxis": "y"
        },
        {
         "alignmentgroup": "True",
         "bingroup": "x",
         "hovertemplate": "Title=Anand Tiwari's untitled next<br>Producers=%{x}<br>count=%{y}<extra></extra>",
         "legendgroup": "Anand Tiwari's untitled next",
         "marker": {
          "color": "#B6E880",
          "pattern": {
           "shape": ""
          }
         },
         "name": "Anand Tiwari's untitled next",
         "offsetgroup": "Anand Tiwari's untitled next",
         "orientation": "v",
         "showlegend": true,
         "type": "histogram",
         "x": [
          "Karan JoharHiroo Yash Johar,Apoorva Mehta"
         ],
         "xaxis": "x",
         "yaxis": "y"
        },
        {
         "alignmentgroup": "True",
         "bingroup": "x",
         "hovertemplate": "Title=Selfiee<br>Producers=%{x}<br>count=%{y}<extra></extra>",
         "legendgroup": "Selfiee",
         "marker": {
          "color": "#FF97FF",
          "pattern": {
           "shape": ""
          }
         },
         "name": "Selfiee",
         "offsetgroup": "Selfiee",
         "orientation": "v",
         "showlegend": true,
         "type": "histogram",
         "x": [
          "Karan JoharPrithviraj SukumaranAruna Bhatia,Hiroo Yash Johar,Apoorva Mehta"
         ],
         "xaxis": "x",
         "yaxis": "y"
        }
       ],
       "layout": {
        "barmode": "relative",
        "legend": {
         "title": {
          "text": "Title"
         },
         "tracegroupgap": 0
        },
        "margin": {
         "t": 60
        },
        "template": {
         "data": {
          "bar": [
           {
            "error_x": {
             "color": "#2a3f5f"
            },
            "error_y": {
             "color": "#2a3f5f"
            },
            "marker": {
             "line": {
              "color": "#E5ECF6",
              "width": 0.5
             },
             "pattern": {
              "fillmode": "overlay",
              "size": 10,
              "solidity": 0.2
             }
            },
            "type": "bar"
           }
          ],
          "barpolar": [
           {
            "marker": {
             "line": {
              "color": "#E5ECF6",
              "width": 0.5
             },
             "pattern": {
              "fillmode": "overlay",
              "size": 10,
              "solidity": 0.2
             }
            },
            "type": "barpolar"
           }
          ],
          "carpet": [
           {
            "aaxis": {
             "endlinecolor": "#2a3f5f",
             "gridcolor": "white",
             "linecolor": "white",
             "minorgridcolor": "white",
             "startlinecolor": "#2a3f5f"
            },
            "baxis": {
             "endlinecolor": "#2a3f5f",
             "gridcolor": "white",
             "linecolor": "white",
             "minorgridcolor": "white",
             "startlinecolor": "#2a3f5f"
            },
            "type": "carpet"
           }
          ],
          "choropleth": [
           {
            "colorbar": {
             "outlinewidth": 0,
             "ticks": ""
            },
            "type": "choropleth"
           }
          ],
          "contour": [
           {
            "colorbar": {
             "outlinewidth": 0,
             "ticks": ""
            },
            "colorscale": [
             [
              0,
              "#0d0887"
             ],
             [
              0.1111111111111111,
              "#46039f"
             ],
             [
              0.2222222222222222,
              "#7201a8"
             ],
             [
              0.3333333333333333,
              "#9c179e"
             ],
             [
              0.4444444444444444,
              "#bd3786"
             ],
             [
              0.5555555555555556,
              "#d8576b"
             ],
             [
              0.6666666666666666,
              "#ed7953"
             ],
             [
              0.7777777777777778,
              "#fb9f3a"
             ],
             [
              0.8888888888888888,
              "#fdca26"
             ],
             [
              1,
              "#f0f921"
             ]
            ],
            "type": "contour"
           }
          ],
          "contourcarpet": [
           {
            "colorbar": {
             "outlinewidth": 0,
             "ticks": ""
            },
            "type": "contourcarpet"
           }
          ],
          "heatmap": [
           {
            "colorbar": {
             "outlinewidth": 0,
             "ticks": ""
            },
            "colorscale": [
             [
              0,
              "#0d0887"
             ],
             [
              0.1111111111111111,
              "#46039f"
             ],
             [
              0.2222222222222222,
              "#7201a8"
             ],
             [
              0.3333333333333333,
              "#9c179e"
             ],
             [
              0.4444444444444444,
              "#bd3786"
             ],
             [
              0.5555555555555556,
              "#d8576b"
             ],
             [
              0.6666666666666666,
              "#ed7953"
             ],
             [
              0.7777777777777778,
              "#fb9f3a"
             ],
             [
              0.8888888888888888,
              "#fdca26"
             ],
             [
              1,
              "#f0f921"
             ]
            ],
            "type": "heatmap"
           }
          ],
          "heatmapgl": [
           {
            "colorbar": {
             "outlinewidth": 0,
             "ticks": ""
            },
            "colorscale": [
             [
              0,
              "#0d0887"
             ],
             [
              0.1111111111111111,
              "#46039f"
             ],
             [
              0.2222222222222222,
              "#7201a8"
             ],
             [
              0.3333333333333333,
              "#9c179e"
             ],
             [
              0.4444444444444444,
              "#bd3786"
             ],
             [
              0.5555555555555556,
              "#d8576b"
             ],
             [
              0.6666666666666666,
              "#ed7953"
             ],
             [
              0.7777777777777778,
              "#fb9f3a"
             ],
             [
              0.8888888888888888,
              "#fdca26"
             ],
             [
              1,
              "#f0f921"
             ]
            ],
            "type": "heatmapgl"
           }
          ],
          "histogram": [
           {
            "marker": {
             "pattern": {
              "fillmode": "overlay",
              "size": 10,
              "solidity": 0.2
             }
            },
            "type": "histogram"
           }
          ],
          "histogram2d": [
           {
            "colorbar": {
             "outlinewidth": 0,
             "ticks": ""
            },
            "colorscale": [
             [
              0,
              "#0d0887"
             ],
             [
              0.1111111111111111,
              "#46039f"
             ],
             [
              0.2222222222222222,
              "#7201a8"
             ],
             [
              0.3333333333333333,
              "#9c179e"
             ],
             [
              0.4444444444444444,
              "#bd3786"
             ],
             [
              0.5555555555555556,
              "#d8576b"
             ],
             [
              0.6666666666666666,
              "#ed7953"
             ],
             [
              0.7777777777777778,
              "#fb9f3a"
             ],
             [
              0.8888888888888888,
              "#fdca26"
             ],
             [
              1,
              "#f0f921"
             ]
            ],
            "type": "histogram2d"
           }
          ],
          "histogram2dcontour": [
           {
            "colorbar": {
             "outlinewidth": 0,
             "ticks": ""
            },
            "colorscale": [
             [
              0,
              "#0d0887"
             ],
             [
              0.1111111111111111,
              "#46039f"
             ],
             [
              0.2222222222222222,
              "#7201a8"
             ],
             [
              0.3333333333333333,
              "#9c179e"
             ],
             [
              0.4444444444444444,
              "#bd3786"
             ],
             [
              0.5555555555555556,
              "#d8576b"
             ],
             [
              0.6666666666666666,
              "#ed7953"
             ],
             [
              0.7777777777777778,
              "#fb9f3a"
             ],
             [
              0.8888888888888888,
              "#fdca26"
             ],
             [
              1,
              "#f0f921"
             ]
            ],
            "type": "histogram2dcontour"
           }
          ],
          "mesh3d": [
           {
            "colorbar": {
             "outlinewidth": 0,
             "ticks": ""
            },
            "type": "mesh3d"
           }
          ],
          "parcoords": [
           {
            "line": {
             "colorbar": {
              "outlinewidth": 0,
              "ticks": ""
             }
            },
            "type": "parcoords"
           }
          ],
          "pie": [
           {
            "automargin": true,
            "type": "pie"
           }
          ],
          "scatter": [
           {
            "fillpattern": {
             "fillmode": "overlay",
             "size": 10,
             "solidity": 0.2
            },
            "type": "scatter"
           }
          ],
          "scatter3d": [
           {
            "line": {
             "colorbar": {
              "outlinewidth": 0,
              "ticks": ""
             }
            },
            "marker": {
             "colorbar": {
              "outlinewidth": 0,
              "ticks": ""
             }
            },
            "type": "scatter3d"
           }
          ],
          "scattercarpet": [
           {
            "marker": {
             "colorbar": {
              "outlinewidth": 0,
              "ticks": ""
             }
            },
            "type": "scattercarpet"
           }
          ],
          "scattergeo": [
           {
            "marker": {
             "colorbar": {
              "outlinewidth": 0,
              "ticks": ""
             }
            },
            "type": "scattergeo"
           }
          ],
          "scattergl": [
           {
            "marker": {
             "colorbar": {
              "outlinewidth": 0,
              "ticks": ""
             }
            },
            "type": "scattergl"
           }
          ],
          "scattermapbox": [
           {
            "marker": {
             "colorbar": {
              "outlinewidth": 0,
              "ticks": ""
             }
            },
            "type": "scattermapbox"
           }
          ],
          "scatterpolar": [
           {
            "marker": {
             "colorbar": {
              "outlinewidth": 0,
              "ticks": ""
             }
            },
            "type": "scatterpolar"
           }
          ],
          "scatterpolargl": [
           {
            "marker": {
             "colorbar": {
              "outlinewidth": 0,
              "ticks": ""
             }
            },
            "type": "scatterpolargl"
           }
          ],
          "scatterternary": [
           {
            "marker": {
             "colorbar": {
              "outlinewidth": 0,
              "ticks": ""
             }
            },
            "type": "scatterternary"
           }
          ],
          "surface": [
           {
            "colorbar": {
             "outlinewidth": 0,
             "ticks": ""
            },
            "colorscale": [
             [
              0,
              "#0d0887"
             ],
             [
              0.1111111111111111,
              "#46039f"
             ],
             [
              0.2222222222222222,
              "#7201a8"
             ],
             [
              0.3333333333333333,
              "#9c179e"
             ],
             [
              0.4444444444444444,
              "#bd3786"
             ],
             [
              0.5555555555555556,
              "#d8576b"
             ],
             [
              0.6666666666666666,
              "#ed7953"
             ],
             [
              0.7777777777777778,
              "#fb9f3a"
             ],
             [
              0.8888888888888888,
              "#fdca26"
             ],
             [
              1,
              "#f0f921"
             ]
            ],
            "type": "surface"
           }
          ],
          "table": [
           {
            "cells": {
             "fill": {
              "color": "#EBF0F8"
             },
             "line": {
              "color": "white"
             }
            },
            "header": {
             "fill": {
              "color": "#C8D4E3"
             },
             "line": {
              "color": "white"
             }
            },
            "type": "table"
           }
          ]
         },
         "layout": {
          "annotationdefaults": {
           "arrowcolor": "#2a3f5f",
           "arrowhead": 0,
           "arrowwidth": 1
          },
          "autotypenumbers": "strict",
          "coloraxis": {
           "colorbar": {
            "outlinewidth": 0,
            "ticks": ""
           }
          },
          "colorscale": {
           "diverging": [
            [
             0,
             "#8e0152"
            ],
            [
             0.1,
             "#c51b7d"
            ],
            [
             0.2,
             "#de77ae"
            ],
            [
             0.3,
             "#f1b6da"
            ],
            [
             0.4,
             "#fde0ef"
            ],
            [
             0.5,
             "#f7f7f7"
            ],
            [
             0.6,
             "#e6f5d0"
            ],
            [
             0.7,
             "#b8e186"
            ],
            [
             0.8,
             "#7fbc41"
            ],
            [
             0.9,
             "#4d9221"
            ],
            [
             1,
             "#276419"
            ]
           ],
           "sequential": [
            [
             0,
             "#0d0887"
            ],
            [
             0.1111111111111111,
             "#46039f"
            ],
            [
             0.2222222222222222,
             "#7201a8"
            ],
            [
             0.3333333333333333,
             "#9c179e"
            ],
            [
             0.4444444444444444,
             "#bd3786"
            ],
            [
             0.5555555555555556,
             "#d8576b"
            ],
            [
             0.6666666666666666,
             "#ed7953"
            ],
            [
             0.7777777777777778,
             "#fb9f3a"
            ],
            [
             0.8888888888888888,
             "#fdca26"
            ],
            [
             1,
             "#f0f921"
            ]
           ],
           "sequentialminus": [
            [
             0,
             "#0d0887"
            ],
            [
             0.1111111111111111,
             "#46039f"
            ],
            [
             0.2222222222222222,
             "#7201a8"
            ],
            [
             0.3333333333333333,
             "#9c179e"
            ],
            [
             0.4444444444444444,
             "#bd3786"
            ],
            [
             0.5555555555555556,
             "#d8576b"
            ],
            [
             0.6666666666666666,
             "#ed7953"
            ],
            [
             0.7777777777777778,
             "#fb9f3a"
            ],
            [
             0.8888888888888888,
             "#fdca26"
            ],
            [
             1,
             "#f0f921"
            ]
           ]
          },
          "colorway": [
           "#636efa",
           "#EF553B",
           "#00cc96",
           "#ab63fa",
           "#FFA15A",
           "#19d3f3",
           "#FF6692",
           "#B6E880",
           "#FF97FF",
           "#FECB52"
          ],
          "font": {
           "color": "#2a3f5f"
          },
          "geo": {
           "bgcolor": "white",
           "lakecolor": "white",
           "landcolor": "#E5ECF6",
           "showlakes": true,
           "showland": true,
           "subunitcolor": "white"
          },
          "hoverlabel": {
           "align": "left"
          },
          "hovermode": "closest",
          "mapbox": {
           "style": "light"
          },
          "paper_bgcolor": "white",
          "plot_bgcolor": "#E5ECF6",
          "polar": {
           "angularaxis": {
            "gridcolor": "white",
            "linecolor": "white",
            "ticks": ""
           },
           "bgcolor": "#E5ECF6",
           "radialaxis": {
            "gridcolor": "white",
            "linecolor": "white",
            "ticks": ""
           }
          },
          "scene": {
           "xaxis": {
            "backgroundcolor": "#E5ECF6",
            "gridcolor": "white",
            "gridwidth": 2,
            "linecolor": "white",
            "showbackground": true,
            "ticks": "",
            "zerolinecolor": "white"
           },
           "yaxis": {
            "backgroundcolor": "#E5ECF6",
            "gridcolor": "white",
            "gridwidth": 2,
            "linecolor": "white",
            "showbackground": true,
            "ticks": "",
            "zerolinecolor": "white"
           },
           "zaxis": {
            "backgroundcolor": "#E5ECF6",
            "gridcolor": "white",
            "gridwidth": 2,
            "linecolor": "white",
            "showbackground": true,
            "ticks": "",
            "zerolinecolor": "white"
           }
          },
          "shapedefaults": {
           "line": {
            "color": "#2a3f5f"
           }
          },
          "ternary": {
           "aaxis": {
            "gridcolor": "white",
            "linecolor": "white",
            "ticks": ""
           },
           "baxis": {
            "gridcolor": "white",
            "linecolor": "white",
            "ticks": ""
           },
           "bgcolor": "#E5ECF6",
           "caxis": {
            "gridcolor": "white",
            "linecolor": "white",
            "ticks": ""
           }
          },
          "title": {
           "x": 0.05
          },
          "xaxis": {
           "automargin": true,
           "gridcolor": "white",
           "linecolor": "white",
           "ticks": "",
           "title": {
            "standoff": 15
           },
           "zerolinecolor": "white",
           "zerolinewidth": 2
          },
          "yaxis": {
           "automargin": true,
           "gridcolor": "white",
           "linecolor": "white",
           "ticks": "",
           "title": {
            "standoff": 15
           },
           "zerolinecolor": "white",
           "zerolinewidth": 2
          }
         }
        },
        "xaxis": {
         "anchor": "y",
         "domain": [
          0,
          1
         ],
         "title": {
          "text": "Producers"
         }
        },
        "yaxis": {
         "anchor": "x",
         "domain": [
          0,
          1
         ],
         "title": {
          "text": "count"
         }
        }
       }
      }
     },
     "metadata": {},
     "output_type": "display_data"
    }
   ],
   "source": [
    "fig3 = px.histogram(dharma_data, x = 'Producers', color = 'Title')\n",
    "fig3.show()"
   ]
  }
 ],
 "metadata": {
  "kernelspec": {
   "display_name": "Python 3.9.13 64-bit (windows store)",
   "language": "python",
   "name": "python3"
  },
  "language_info": {
   "codemirror_mode": {
    "name": "ipython",
    "version": 3
   },
   "file_extension": ".py",
   "mimetype": "text/x-python",
   "name": "python",
   "nbconvert_exporter": "python",
   "pygments_lexer": "ipython3",
   "version": "3.9.13"
  },
  "orig_nbformat": 4,
  "vscode": {
   "interpreter": {
    "hash": "f5b36eb6063c5de5f4a5f44722e11565d0762fe02341764f2fdf338c94107080"
   }
  }
 },
 "nbformat": 4,
 "nbformat_minor": 2
}
